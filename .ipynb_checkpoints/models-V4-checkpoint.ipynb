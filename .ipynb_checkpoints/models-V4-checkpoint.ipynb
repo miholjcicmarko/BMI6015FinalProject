{
 "cells": [
  {
   "cell_type": "markdown",
   "id": "5a0e9459",
   "metadata": {},
   "source": [
    "# Examining Heart Disease Classifiers"
   ]
  },
  {
   "cell_type": "markdown",
   "id": "71517c83",
   "metadata": {},
   "source": [
    "### Problem Statement\n",
    "The problem is that cardiovascular diseases are the leading cause of death globally. The World Health Organization estimates that 17.9 million people died from cardiovascular disease in 2019, representing 32% of all global deaths. 85% of the deaths caused by the cardiovascular system were due to heart attack and stroke. Cardiovascular disease causes 38% of premature deaths. Heart disease is a common ailment, and this dataset contains 11 features that may predict heart disease. This dataset will help develop an early detection classifier to help patients prevent heart failure."
   ]
  },
  {
   "cell_type": "markdown",
   "id": "811311e7",
   "metadata": {},
   "source": [
    "### Project Learning Goals\n",
    "The learning experience is to develop multiple machine learning models from beginning to end. The project will allow the student to explore the dataset and perform clustering analyses. The project will enable the student to make critical decisions regarding data selection and management."
   ]
  },
  {
   "cell_type": "markdown",
   "id": "51ea6597",
   "metadata": {},
   "source": [
    "### Dataset\n",
    "The dataset has 918 data points and 11 features. The dataset is compiled from five different sources. Out of the 11 total features, four are numerical, and seven are categorical. There is no missing data. However, there are abnormal values for cholesterol for 18.7% of the data points. The odd data resulted in the removal of the cholesterol feature. Additionally, one data point was removed due to an abnormal heart rate value."
   ]
  },
  {
   "cell_type": "markdown",
   "id": "044fe876",
   "metadata": {},
   "source": [
    "### Literature review\n",
    "Three papers and one article were used as a reference for this project. Sharma et al. is a study that compared the performance of SVM, decision tree, naïve bayes, and random forest on the Cleveland Heart Disease Dataset. Gavhane et al. provide an evaluation of a multi-layer perceptron algorithm. The multi-layer perceptron algorithm will give a performance comparison to the other algorithms in the project. Shah et al. compare naïve bayes, decision tree, k nearest neighbor, and random forest performance on a heart disease dataset. Dan Berdikulov provides a reference for dealing with missing/poor quality data."
   ]
  },
  {
   "cell_type": "markdown",
   "id": "127cf73d",
   "metadata": {},
   "source": [
    "### Hypothesis\n",
    "We think that XGBoost will provide the best predictor in this project. We believe that gradient boosting will give a better model because it will constantly improve its predecessors during training."
   ]
  },
  {
   "cell_type": "markdown",
   "id": "a2f5c327",
   "metadata": {},
   "source": [
    "### Methods/Results"
   ]
  },
  {
   "cell_type": "code",
   "execution_count": 1,
   "id": "240842e5",
   "metadata": {
    "id": "240842e5"
   },
   "outputs": [],
   "source": [
    "# imports numpy package as np (allows work with arrays)\n",
    "import numpy as np\n",
    "# imports pandas package as pd (allows work with dataframes)\n",
    "import pandas as pd\n",
    "# imports math to use mathematical equations\n",
    "import math\n",
    "# imports the mean function from statistics package\n",
    "from statistics import mean\n",
    "# import the statistical functions from scipy\n",
    "from scipy import stats\n",
    "# imports the seaborn package as sns\n",
    "import seaborn as sns\n",
    "# imports the warning package (allows warnings to be ignored)\n",
    "import warnings \n",
    "# import sklearn which has a variety of useful functions\n",
    "import sklearn \n",
    "# preprocessing function is imported\n",
    "from sklearn import preprocessing\n",
    "# One-hot encoding capability has been imported\n",
    "from sklearn.preprocessing import OneHotEncoder\n",
    "\n",
    "#imports packages that will help test the models\n",
    "from sklearn.model_selection import train_test_split, RepeatedStratifiedKFold, RandomizedSearchCV\n",
    "# imports the function to obtain the f1 score?\n",
    "from sklearn.metrics import classification_report,f1_score\n",
    "# imports the imputer ?\n",
    "from sklearn.impute import SimpleImputer \n",
    "# imports matplotlib to allow graphs to be developed\n",
    "import matplotlib.pyplot as plt\n",
    "# imports Support Machine Algorithm for classification\n",
    "from sklearn.svm import SVC\n",
    "# imports logistic regression model\n",
    "from sklearn.linear_model import LogisticRegression\n",
    "# imports the \n",
    "from sklearn.neighbors import KNeighborsClassifier\n",
    "# allows us to resample different indices\n",
    "from sklearn.utils import resample\n",
    "# Used for scaling\n",
    "from sklearn.preprocessing import StandardScaler\n",
    "# imports the Random Forest Classifier\n",
    "from sklearn.ensemble import RandomForestClassifier\n",
    "# ?\n",
    "from sklearn.model_selection import cross_val_score,StratifiedKFold,RandomizedSearchCV\n",
    "# Imports the pipeline function\n",
    "from sklearn.pipeline import Pipeline\n",
    "# imports PCA\n",
    "from sklearn.decomposition import PCA\n",
    "# imports AUC score \n",
    "from sklearn.metrics import roc_auc_score\n",
    "#import xgboost as xgb\n",
    "\n",
    "#from scikit_posthocs import posthoc_nemenyi_friedman\n",
    "\n",
    "warnings.filterwarnings(\"ignore\")"
   ]
  },
  {
   "cell_type": "code",
   "execution_count": 2,
   "id": "3ee34dd1",
   "metadata": {
    "colab": {
     "base_uri": "https://localhost:8080/",
     "height": 424
    },
    "id": "3ee34dd1",
    "outputId": "7840b936-038e-498d-8fd1-66062528f768"
   },
   "outputs": [
    {
     "data": {
      "text/html": [
       "<div>\n",
       "<style scoped>\n",
       "    .dataframe tbody tr th:only-of-type {\n",
       "        vertical-align: middle;\n",
       "    }\n",
       "\n",
       "    .dataframe tbody tr th {\n",
       "        vertical-align: top;\n",
       "    }\n",
       "\n",
       "    .dataframe thead th {\n",
       "        text-align: right;\n",
       "    }\n",
       "</style>\n",
       "<table border=\"1\" class=\"dataframe\">\n",
       "  <thead>\n",
       "    <tr style=\"text-align: right;\">\n",
       "      <th></th>\n",
       "      <th>Age</th>\n",
       "      <th>Sex</th>\n",
       "      <th>ChestPainType</th>\n",
       "      <th>RestingBP</th>\n",
       "      <th>Cholesterol</th>\n",
       "      <th>FastingBS</th>\n",
       "      <th>RestingECG</th>\n",
       "      <th>MaxHR</th>\n",
       "      <th>ExerciseAngina</th>\n",
       "      <th>Oldpeak</th>\n",
       "      <th>ST_Slope</th>\n",
       "      <th>HeartDisease</th>\n",
       "    </tr>\n",
       "  </thead>\n",
       "  <tbody>\n",
       "    <tr>\n",
       "      <th>0</th>\n",
       "      <td>40</td>\n",
       "      <td>M</td>\n",
       "      <td>ATA</td>\n",
       "      <td>140</td>\n",
       "      <td>289</td>\n",
       "      <td>0</td>\n",
       "      <td>Normal</td>\n",
       "      <td>172</td>\n",
       "      <td>N</td>\n",
       "      <td>0.0</td>\n",
       "      <td>Up</td>\n",
       "      <td>0</td>\n",
       "    </tr>\n",
       "    <tr>\n",
       "      <th>1</th>\n",
       "      <td>49</td>\n",
       "      <td>F</td>\n",
       "      <td>NAP</td>\n",
       "      <td>160</td>\n",
       "      <td>180</td>\n",
       "      <td>0</td>\n",
       "      <td>Normal</td>\n",
       "      <td>156</td>\n",
       "      <td>N</td>\n",
       "      <td>1.0</td>\n",
       "      <td>Flat</td>\n",
       "      <td>1</td>\n",
       "    </tr>\n",
       "    <tr>\n",
       "      <th>2</th>\n",
       "      <td>37</td>\n",
       "      <td>M</td>\n",
       "      <td>ATA</td>\n",
       "      <td>130</td>\n",
       "      <td>283</td>\n",
       "      <td>0</td>\n",
       "      <td>ST</td>\n",
       "      <td>98</td>\n",
       "      <td>N</td>\n",
       "      <td>0.0</td>\n",
       "      <td>Up</td>\n",
       "      <td>0</td>\n",
       "    </tr>\n",
       "    <tr>\n",
       "      <th>3</th>\n",
       "      <td>48</td>\n",
       "      <td>F</td>\n",
       "      <td>ASY</td>\n",
       "      <td>138</td>\n",
       "      <td>214</td>\n",
       "      <td>0</td>\n",
       "      <td>Normal</td>\n",
       "      <td>108</td>\n",
       "      <td>Y</td>\n",
       "      <td>1.5</td>\n",
       "      <td>Flat</td>\n",
       "      <td>1</td>\n",
       "    </tr>\n",
       "    <tr>\n",
       "      <th>4</th>\n",
       "      <td>54</td>\n",
       "      <td>M</td>\n",
       "      <td>NAP</td>\n",
       "      <td>150</td>\n",
       "      <td>195</td>\n",
       "      <td>0</td>\n",
       "      <td>Normal</td>\n",
       "      <td>122</td>\n",
       "      <td>N</td>\n",
       "      <td>0.0</td>\n",
       "      <td>Up</td>\n",
       "      <td>0</td>\n",
       "    </tr>\n",
       "    <tr>\n",
       "      <th>...</th>\n",
       "      <td>...</td>\n",
       "      <td>...</td>\n",
       "      <td>...</td>\n",
       "      <td>...</td>\n",
       "      <td>...</td>\n",
       "      <td>...</td>\n",
       "      <td>...</td>\n",
       "      <td>...</td>\n",
       "      <td>...</td>\n",
       "      <td>...</td>\n",
       "      <td>...</td>\n",
       "      <td>...</td>\n",
       "    </tr>\n",
       "    <tr>\n",
       "      <th>913</th>\n",
       "      <td>45</td>\n",
       "      <td>M</td>\n",
       "      <td>TA</td>\n",
       "      <td>110</td>\n",
       "      <td>264</td>\n",
       "      <td>0</td>\n",
       "      <td>Normal</td>\n",
       "      <td>132</td>\n",
       "      <td>N</td>\n",
       "      <td>1.2</td>\n",
       "      <td>Flat</td>\n",
       "      <td>1</td>\n",
       "    </tr>\n",
       "    <tr>\n",
       "      <th>914</th>\n",
       "      <td>68</td>\n",
       "      <td>M</td>\n",
       "      <td>ASY</td>\n",
       "      <td>144</td>\n",
       "      <td>193</td>\n",
       "      <td>1</td>\n",
       "      <td>Normal</td>\n",
       "      <td>141</td>\n",
       "      <td>N</td>\n",
       "      <td>3.4</td>\n",
       "      <td>Flat</td>\n",
       "      <td>1</td>\n",
       "    </tr>\n",
       "    <tr>\n",
       "      <th>915</th>\n",
       "      <td>57</td>\n",
       "      <td>M</td>\n",
       "      <td>ASY</td>\n",
       "      <td>130</td>\n",
       "      <td>131</td>\n",
       "      <td>0</td>\n",
       "      <td>Normal</td>\n",
       "      <td>115</td>\n",
       "      <td>Y</td>\n",
       "      <td>1.2</td>\n",
       "      <td>Flat</td>\n",
       "      <td>1</td>\n",
       "    </tr>\n",
       "    <tr>\n",
       "      <th>916</th>\n",
       "      <td>57</td>\n",
       "      <td>F</td>\n",
       "      <td>ATA</td>\n",
       "      <td>130</td>\n",
       "      <td>236</td>\n",
       "      <td>0</td>\n",
       "      <td>LVH</td>\n",
       "      <td>174</td>\n",
       "      <td>N</td>\n",
       "      <td>0.0</td>\n",
       "      <td>Flat</td>\n",
       "      <td>1</td>\n",
       "    </tr>\n",
       "    <tr>\n",
       "      <th>917</th>\n",
       "      <td>38</td>\n",
       "      <td>M</td>\n",
       "      <td>NAP</td>\n",
       "      <td>138</td>\n",
       "      <td>175</td>\n",
       "      <td>0</td>\n",
       "      <td>Normal</td>\n",
       "      <td>173</td>\n",
       "      <td>N</td>\n",
       "      <td>0.0</td>\n",
       "      <td>Up</td>\n",
       "      <td>0</td>\n",
       "    </tr>\n",
       "  </tbody>\n",
       "</table>\n",
       "<p>918 rows × 12 columns</p>\n",
       "</div>"
      ],
      "text/plain": [
       "     Age Sex ChestPainType  RestingBP  Cholesterol  FastingBS RestingECG  \\\n",
       "0     40   M           ATA        140          289          0     Normal   \n",
       "1     49   F           NAP        160          180          0     Normal   \n",
       "2     37   M           ATA        130          283          0         ST   \n",
       "3     48   F           ASY        138          214          0     Normal   \n",
       "4     54   M           NAP        150          195          0     Normal   \n",
       "..   ...  ..           ...        ...          ...        ...        ...   \n",
       "913   45   M            TA        110          264          0     Normal   \n",
       "914   68   M           ASY        144          193          1     Normal   \n",
       "915   57   M           ASY        130          131          0     Normal   \n",
       "916   57   F           ATA        130          236          0        LVH   \n",
       "917   38   M           NAP        138          175          0     Normal   \n",
       "\n",
       "     MaxHR ExerciseAngina  Oldpeak ST_Slope  HeartDisease  \n",
       "0      172              N      0.0       Up             0  \n",
       "1      156              N      1.0     Flat             1  \n",
       "2       98              N      0.0       Up             0  \n",
       "3      108              Y      1.5     Flat             1  \n",
       "4      122              N      0.0       Up             0  \n",
       "..     ...            ...      ...      ...           ...  \n",
       "913    132              N      1.2     Flat             1  \n",
       "914    141              N      3.4     Flat             1  \n",
       "915    115              Y      1.2     Flat             1  \n",
       "916    174              N      0.0     Flat             1  \n",
       "917    173              N      0.0       Up             0  \n",
       "\n",
       "[918 rows x 12 columns]"
      ]
     },
     "execution_count": 2,
     "metadata": {},
     "output_type": "execute_result"
    }
   ],
   "source": [
    "df = pd.read_csv('heart.csv')\n",
    "df"
   ]
  },
  {
   "cell_type": "code",
   "execution_count": 3,
   "id": "2033f36a",
   "metadata": {
    "colab": {
     "base_uri": "https://localhost:8080/"
    },
    "id": "2033f36a",
    "outputId": "ec15e53f-4d0b-4eff-9200-0bc0572a7f7e"
   },
   "outputs": [
    {
     "data": {
      "text/plain": [
       "(918, 12)"
      ]
     },
     "execution_count": 3,
     "metadata": {},
     "output_type": "execute_result"
    }
   ],
   "source": [
    "df.shape"
   ]
  },
  {
   "cell_type": "code",
   "execution_count": 4,
   "id": "fd29f751",
   "metadata": {
    "colab": {
     "base_uri": "https://localhost:8080/"
    },
    "id": "fd29f751",
    "outputId": "652a86ac-5ab1-407a-e9cb-ed104d08e722"
   },
   "outputs": [
    {
     "data": {
      "text/plain": [
       "Age                 int64\n",
       "Sex                object\n",
       "ChestPainType      object\n",
       "RestingBP           int64\n",
       "Cholesterol         int64\n",
       "FastingBS           int64\n",
       "RestingECG         object\n",
       "MaxHR               int64\n",
       "ExerciseAngina     object\n",
       "Oldpeak           float64\n",
       "ST_Slope           object\n",
       "HeartDisease        int64\n",
       "dtype: object"
      ]
     },
     "execution_count": 4,
     "metadata": {},
     "output_type": "execute_result"
    }
   ],
   "source": [
    "a=df.dtypes\n",
    "a"
   ]
  },
  {
   "cell_type": "code",
   "execution_count": 5,
   "id": "d051714d",
   "metadata": {
    "colab": {
     "base_uri": "https://localhost:8080/",
     "height": 300
    },
    "id": "d051714d",
    "outputId": "732f21a1-c4f5-4bea-8226-bb0279e40a2c"
   },
   "outputs": [
    {
     "data": {
      "text/html": [
       "<div>\n",
       "<style scoped>\n",
       "    .dataframe tbody tr th:only-of-type {\n",
       "        vertical-align: middle;\n",
       "    }\n",
       "\n",
       "    .dataframe tbody tr th {\n",
       "        vertical-align: top;\n",
       "    }\n",
       "\n",
       "    .dataframe thead th {\n",
       "        text-align: right;\n",
       "    }\n",
       "</style>\n",
       "<table border=\"1\" class=\"dataframe\">\n",
       "  <thead>\n",
       "    <tr style=\"text-align: right;\">\n",
       "      <th></th>\n",
       "      <th>Age</th>\n",
       "      <th>RestingBP</th>\n",
       "      <th>Cholesterol</th>\n",
       "      <th>FastingBS</th>\n",
       "      <th>MaxHR</th>\n",
       "      <th>Oldpeak</th>\n",
       "      <th>HeartDisease</th>\n",
       "    </tr>\n",
       "  </thead>\n",
       "  <tbody>\n",
       "    <tr>\n",
       "      <th>count</th>\n",
       "      <td>918.000000</td>\n",
       "      <td>918.000000</td>\n",
       "      <td>918.000000</td>\n",
       "      <td>918.000000</td>\n",
       "      <td>918.000000</td>\n",
       "      <td>918.000000</td>\n",
       "      <td>918.000000</td>\n",
       "    </tr>\n",
       "    <tr>\n",
       "      <th>mean</th>\n",
       "      <td>53.510893</td>\n",
       "      <td>132.396514</td>\n",
       "      <td>198.799564</td>\n",
       "      <td>0.233115</td>\n",
       "      <td>136.809368</td>\n",
       "      <td>0.887364</td>\n",
       "      <td>0.553377</td>\n",
       "    </tr>\n",
       "    <tr>\n",
       "      <th>std</th>\n",
       "      <td>9.432617</td>\n",
       "      <td>18.514154</td>\n",
       "      <td>109.384145</td>\n",
       "      <td>0.423046</td>\n",
       "      <td>25.460334</td>\n",
       "      <td>1.066570</td>\n",
       "      <td>0.497414</td>\n",
       "    </tr>\n",
       "    <tr>\n",
       "      <th>min</th>\n",
       "      <td>28.000000</td>\n",
       "      <td>0.000000</td>\n",
       "      <td>0.000000</td>\n",
       "      <td>0.000000</td>\n",
       "      <td>60.000000</td>\n",
       "      <td>-2.600000</td>\n",
       "      <td>0.000000</td>\n",
       "    </tr>\n",
       "    <tr>\n",
       "      <th>25%</th>\n",
       "      <td>47.000000</td>\n",
       "      <td>120.000000</td>\n",
       "      <td>173.250000</td>\n",
       "      <td>0.000000</td>\n",
       "      <td>120.000000</td>\n",
       "      <td>0.000000</td>\n",
       "      <td>0.000000</td>\n",
       "    </tr>\n",
       "    <tr>\n",
       "      <th>50%</th>\n",
       "      <td>54.000000</td>\n",
       "      <td>130.000000</td>\n",
       "      <td>223.000000</td>\n",
       "      <td>0.000000</td>\n",
       "      <td>138.000000</td>\n",
       "      <td>0.600000</td>\n",
       "      <td>1.000000</td>\n",
       "    </tr>\n",
       "    <tr>\n",
       "      <th>75%</th>\n",
       "      <td>60.000000</td>\n",
       "      <td>140.000000</td>\n",
       "      <td>267.000000</td>\n",
       "      <td>0.000000</td>\n",
       "      <td>156.000000</td>\n",
       "      <td>1.500000</td>\n",
       "      <td>1.000000</td>\n",
       "    </tr>\n",
       "    <tr>\n",
       "      <th>max</th>\n",
       "      <td>77.000000</td>\n",
       "      <td>200.000000</td>\n",
       "      <td>603.000000</td>\n",
       "      <td>1.000000</td>\n",
       "      <td>202.000000</td>\n",
       "      <td>6.200000</td>\n",
       "      <td>1.000000</td>\n",
       "    </tr>\n",
       "  </tbody>\n",
       "</table>\n",
       "</div>"
      ],
      "text/plain": [
       "              Age   RestingBP  Cholesterol   FastingBS       MaxHR  \\\n",
       "count  918.000000  918.000000   918.000000  918.000000  918.000000   \n",
       "mean    53.510893  132.396514   198.799564    0.233115  136.809368   \n",
       "std      9.432617   18.514154   109.384145    0.423046   25.460334   \n",
       "min     28.000000    0.000000     0.000000    0.000000   60.000000   \n",
       "25%     47.000000  120.000000   173.250000    0.000000  120.000000   \n",
       "50%     54.000000  130.000000   223.000000    0.000000  138.000000   \n",
       "75%     60.000000  140.000000   267.000000    0.000000  156.000000   \n",
       "max     77.000000  200.000000   603.000000    1.000000  202.000000   \n",
       "\n",
       "          Oldpeak  HeartDisease  \n",
       "count  918.000000    918.000000  \n",
       "mean     0.887364      0.553377  \n",
       "std      1.066570      0.497414  \n",
       "min     -2.600000      0.000000  \n",
       "25%      0.000000      0.000000  \n",
       "50%      0.600000      1.000000  \n",
       "75%      1.500000      1.000000  \n",
       "max      6.200000      1.000000  "
      ]
     },
     "execution_count": 5,
     "metadata": {},
     "output_type": "execute_result"
    }
   ],
   "source": [
    "df.describe()"
   ]
  },
  {
   "cell_type": "markdown",
   "id": "4e73ffcc",
   "metadata": {},
   "source": [
    "There is evidence of missing data. It is unlikely that an adult would have 0 RestingBP, or 0 Cholesterol. FastingBS seems to be a binary category. "
   ]
  },
  {
   "cell_type": "code",
   "execution_count": 6,
   "id": "1d15db1a",
   "metadata": {
    "colab": {
     "base_uri": "https://localhost:8080/"
    },
    "id": "1d15db1a",
    "outputId": "213f4cdd-3bea-420e-9a5e-ed7841ba8479"
   },
   "outputs": [
    {
     "name": "stdout",
     "output_type": "stream",
     "text": [
      "1\n",
      "2\n",
      "6\n",
      "8\n",
      "10\n",
      "Index(['Sex', 'ChestPainType', 'RestingECG', 'ExerciseAngina', 'ST_Slope',\n",
      "       'FastingBS'],\n",
      "      dtype='object')\n",
      "Index(['Age', 'Sex', 'ChestPainType', 'RestingBP', 'Cholesterol', 'FastingBS',\n",
      "       'RestingECG', 'MaxHR', 'ExerciseAngina', 'Oldpeak', 'ST_Slope'],\n",
      "      dtype='object')\n"
     ]
    }
   ],
   "source": [
    "#from the above there is no datatype object that condradicts with the above description\n",
    "\n",
    "# we splitted the dataset based on feature type=categorical and numeric. \n",
    "allFeatures=df.columns[0:len(df.columns) - 1]\n",
    "catFeatures=[]\n",
    "for i in range((len(df.columns)-1)):\n",
    "    if df.dtypes[i]=='O':\n",
    "        print(i)\n",
    "        catFeatures.append(i)\n",
    "catFeatures.append(5) #fasting bs is categorical 1: if FastingBS > 120 mg/dl, 0: otherwise\n",
    "\n",
    "catFeatures=df.columns[catFeatures]\n",
    "print(catFeatures)\n",
    "\n",
    "numFeatures= [i for i in allFeatures if not(i in catFeatures)]\n",
    "print(allFeatures)"
   ]
  },
  {
   "cell_type": "code",
   "execution_count": 37,
   "id": "f27560b8",
   "metadata": {
    "colab": {
     "base_uri": "https://localhost:8080/",
     "height": 300
    },
    "id": "f27560b8",
    "outputId": "fc855402-9127-4c42-e87d-49dd81824207"
   },
   "outputs": [
    {
     "data": {
      "text/html": [
       "<div>\n",
       "<style scoped>\n",
       "    .dataframe tbody tr th:only-of-type {\n",
       "        vertical-align: middle;\n",
       "    }\n",
       "\n",
       "    .dataframe tbody tr th {\n",
       "        vertical-align: top;\n",
       "    }\n",
       "\n",
       "    .dataframe thead th {\n",
       "        text-align: right;\n",
       "    }\n",
       "</style>\n",
       "<table border=\"1\" class=\"dataframe\">\n",
       "  <thead>\n",
       "    <tr style=\"text-align: right;\">\n",
       "      <th></th>\n",
       "      <th>Age</th>\n",
       "      <th>RestingBP</th>\n",
       "      <th>MaxHR</th>\n",
       "      <th>Oldpeak</th>\n",
       "    </tr>\n",
       "  </thead>\n",
       "  <tbody>\n",
       "    <tr>\n",
       "      <th>count</th>\n",
       "      <td>917.000000</td>\n",
       "      <td>917.000000</td>\n",
       "      <td>917.000000</td>\n",
       "      <td>917.000000</td>\n",
       "    </tr>\n",
       "    <tr>\n",
       "      <th>mean</th>\n",
       "      <td>53.509269</td>\n",
       "      <td>132.540894</td>\n",
       "      <td>136.789531</td>\n",
       "      <td>0.886696</td>\n",
       "    </tr>\n",
       "    <tr>\n",
       "      <th>std</th>\n",
       "      <td>9.437636</td>\n",
       "      <td>17.999749</td>\n",
       "      <td>25.467129</td>\n",
       "      <td>1.066960</td>\n",
       "    </tr>\n",
       "    <tr>\n",
       "      <th>min</th>\n",
       "      <td>28.000000</td>\n",
       "      <td>80.000000</td>\n",
       "      <td>60.000000</td>\n",
       "      <td>-2.600000</td>\n",
       "    </tr>\n",
       "    <tr>\n",
       "      <th>25%</th>\n",
       "      <td>47.000000</td>\n",
       "      <td>120.000000</td>\n",
       "      <td>120.000000</td>\n",
       "      <td>0.000000</td>\n",
       "    </tr>\n",
       "    <tr>\n",
       "      <th>50%</th>\n",
       "      <td>54.000000</td>\n",
       "      <td>130.000000</td>\n",
       "      <td>138.000000</td>\n",
       "      <td>0.600000</td>\n",
       "    </tr>\n",
       "    <tr>\n",
       "      <th>75%</th>\n",
       "      <td>60.000000</td>\n",
       "      <td>140.000000</td>\n",
       "      <td>156.000000</td>\n",
       "      <td>1.500000</td>\n",
       "    </tr>\n",
       "    <tr>\n",
       "      <th>max</th>\n",
       "      <td>77.000000</td>\n",
       "      <td>200.000000</td>\n",
       "      <td>202.000000</td>\n",
       "      <td>6.200000</td>\n",
       "    </tr>\n",
       "  </tbody>\n",
       "</table>\n",
       "</div>"
      ],
      "text/plain": [
       "              Age   RestingBP       MaxHR     Oldpeak\n",
       "count  917.000000  917.000000  917.000000  917.000000\n",
       "mean    53.509269  132.540894  136.789531    0.886696\n",
       "std      9.437636   17.999749   25.467129    1.066960\n",
       "min     28.000000   80.000000   60.000000   -2.600000\n",
       "25%     47.000000  120.000000  120.000000    0.000000\n",
       "50%     54.000000  130.000000  138.000000    0.600000\n",
       "75%     60.000000  140.000000  156.000000    1.500000\n",
       "max     77.000000  200.000000  202.000000    6.200000"
      ]
     },
     "execution_count": 37,
     "metadata": {},
     "output_type": "execute_result"
    }
   ],
   "source": [
    "df[numFeatures].describe()"
   ]
  },
  {
   "cell_type": "code",
   "execution_count": 8,
   "id": "a2f5c5c7",
   "metadata": {
    "colab": {
     "base_uri": "https://localhost:8080/"
    },
    "id": "a2f5c5c7",
    "outputId": "d265f17d-958f-48ba-c630-365b127fd23c"
   },
   "outputs": [
    {
     "name": "stdout",
     "output_type": "stream",
     "text": [
      "[449]\n"
     ]
    },
    {
     "data": {
      "text/plain": [
       "Age                   55\n",
       "Sex                    M\n",
       "ChestPainType        NAP\n",
       "RestingBP              0\n",
       "Cholesterol            0\n",
       "FastingBS              0\n",
       "RestingECG        Normal\n",
       "MaxHR                155\n",
       "ExerciseAngina         N\n",
       "Oldpeak              1.5\n",
       "ST_Slope            Flat\n",
       "HeartDisease           1\n",
       "Name: 449, dtype: object"
      ]
     },
     "execution_count": 8,
     "metadata": {},
     "output_type": "execute_result"
    }
   ],
   "source": [
    "#get rid of min resting bp\n",
    "s=0\n",
    "c= np.where(df['RestingBP']==0)\n",
    "print(c[0])\n",
    "df.iloc[449]"
   ]
  },
  {
   "cell_type": "code",
   "execution_count": 9,
   "id": "fd41c68b",
   "metadata": {
    "id": "fd41c68b"
   },
   "outputs": [],
   "source": [
    "df=df.drop(index=449,axis=0) #removed this index because it has resting BP. and Cholestrol zero"
   ]
  },
  {
   "cell_type": "code",
   "execution_count": 10,
   "id": "b5064f43",
   "metadata": {
    "colab": {
     "base_uri": "https://localhost:8080/",
     "height": 424
    },
    "id": "b5064f43",
    "outputId": "58a4b85d-d245-4f96-ea11-725f1bf1be71"
   },
   "outputs": [
    {
     "data": {
      "text/html": [
       "<div>\n",
       "<style scoped>\n",
       "    .dataframe tbody tr th:only-of-type {\n",
       "        vertical-align: middle;\n",
       "    }\n",
       "\n",
       "    .dataframe tbody tr th {\n",
       "        vertical-align: top;\n",
       "    }\n",
       "\n",
       "    .dataframe thead th {\n",
       "        text-align: right;\n",
       "    }\n",
       "</style>\n",
       "<table border=\"1\" class=\"dataframe\">\n",
       "  <thead>\n",
       "    <tr style=\"text-align: right;\">\n",
       "      <th></th>\n",
       "      <th>Age</th>\n",
       "      <th>Sex</th>\n",
       "      <th>ChestPainType</th>\n",
       "      <th>RestingBP</th>\n",
       "      <th>Cholesterol</th>\n",
       "      <th>FastingBS</th>\n",
       "      <th>RestingECG</th>\n",
       "      <th>MaxHR</th>\n",
       "      <th>ExerciseAngina</th>\n",
       "      <th>Oldpeak</th>\n",
       "      <th>ST_Slope</th>\n",
       "      <th>HeartDisease</th>\n",
       "    </tr>\n",
       "  </thead>\n",
       "  <tbody>\n",
       "    <tr>\n",
       "      <th>0</th>\n",
       "      <td>40</td>\n",
       "      <td>M</td>\n",
       "      <td>ATA</td>\n",
       "      <td>140</td>\n",
       "      <td>289</td>\n",
       "      <td>0</td>\n",
       "      <td>Normal</td>\n",
       "      <td>172</td>\n",
       "      <td>N</td>\n",
       "      <td>0.0</td>\n",
       "      <td>Up</td>\n",
       "      <td>0</td>\n",
       "    </tr>\n",
       "    <tr>\n",
       "      <th>1</th>\n",
       "      <td>49</td>\n",
       "      <td>F</td>\n",
       "      <td>NAP</td>\n",
       "      <td>160</td>\n",
       "      <td>180</td>\n",
       "      <td>0</td>\n",
       "      <td>Normal</td>\n",
       "      <td>156</td>\n",
       "      <td>N</td>\n",
       "      <td>1.0</td>\n",
       "      <td>Flat</td>\n",
       "      <td>1</td>\n",
       "    </tr>\n",
       "    <tr>\n",
       "      <th>2</th>\n",
       "      <td>37</td>\n",
       "      <td>M</td>\n",
       "      <td>ATA</td>\n",
       "      <td>130</td>\n",
       "      <td>283</td>\n",
       "      <td>0</td>\n",
       "      <td>ST</td>\n",
       "      <td>98</td>\n",
       "      <td>N</td>\n",
       "      <td>0.0</td>\n",
       "      <td>Up</td>\n",
       "      <td>0</td>\n",
       "    </tr>\n",
       "    <tr>\n",
       "      <th>3</th>\n",
       "      <td>48</td>\n",
       "      <td>F</td>\n",
       "      <td>ASY</td>\n",
       "      <td>138</td>\n",
       "      <td>214</td>\n",
       "      <td>0</td>\n",
       "      <td>Normal</td>\n",
       "      <td>108</td>\n",
       "      <td>Y</td>\n",
       "      <td>1.5</td>\n",
       "      <td>Flat</td>\n",
       "      <td>1</td>\n",
       "    </tr>\n",
       "    <tr>\n",
       "      <th>4</th>\n",
       "      <td>54</td>\n",
       "      <td>M</td>\n",
       "      <td>NAP</td>\n",
       "      <td>150</td>\n",
       "      <td>195</td>\n",
       "      <td>0</td>\n",
       "      <td>Normal</td>\n",
       "      <td>122</td>\n",
       "      <td>N</td>\n",
       "      <td>0.0</td>\n",
       "      <td>Up</td>\n",
       "      <td>0</td>\n",
       "    </tr>\n",
       "    <tr>\n",
       "      <th>...</th>\n",
       "      <td>...</td>\n",
       "      <td>...</td>\n",
       "      <td>...</td>\n",
       "      <td>...</td>\n",
       "      <td>...</td>\n",
       "      <td>...</td>\n",
       "      <td>...</td>\n",
       "      <td>...</td>\n",
       "      <td>...</td>\n",
       "      <td>...</td>\n",
       "      <td>...</td>\n",
       "      <td>...</td>\n",
       "    </tr>\n",
       "    <tr>\n",
       "      <th>912</th>\n",
       "      <td>45</td>\n",
       "      <td>M</td>\n",
       "      <td>TA</td>\n",
       "      <td>110</td>\n",
       "      <td>264</td>\n",
       "      <td>0</td>\n",
       "      <td>Normal</td>\n",
       "      <td>132</td>\n",
       "      <td>N</td>\n",
       "      <td>1.2</td>\n",
       "      <td>Flat</td>\n",
       "      <td>1</td>\n",
       "    </tr>\n",
       "    <tr>\n",
       "      <th>913</th>\n",
       "      <td>68</td>\n",
       "      <td>M</td>\n",
       "      <td>ASY</td>\n",
       "      <td>144</td>\n",
       "      <td>193</td>\n",
       "      <td>1</td>\n",
       "      <td>Normal</td>\n",
       "      <td>141</td>\n",
       "      <td>N</td>\n",
       "      <td>3.4</td>\n",
       "      <td>Flat</td>\n",
       "      <td>1</td>\n",
       "    </tr>\n",
       "    <tr>\n",
       "      <th>914</th>\n",
       "      <td>57</td>\n",
       "      <td>M</td>\n",
       "      <td>ASY</td>\n",
       "      <td>130</td>\n",
       "      <td>131</td>\n",
       "      <td>0</td>\n",
       "      <td>Normal</td>\n",
       "      <td>115</td>\n",
       "      <td>Y</td>\n",
       "      <td>1.2</td>\n",
       "      <td>Flat</td>\n",
       "      <td>1</td>\n",
       "    </tr>\n",
       "    <tr>\n",
       "      <th>915</th>\n",
       "      <td>57</td>\n",
       "      <td>F</td>\n",
       "      <td>ATA</td>\n",
       "      <td>130</td>\n",
       "      <td>236</td>\n",
       "      <td>0</td>\n",
       "      <td>LVH</td>\n",
       "      <td>174</td>\n",
       "      <td>N</td>\n",
       "      <td>0.0</td>\n",
       "      <td>Flat</td>\n",
       "      <td>1</td>\n",
       "    </tr>\n",
       "    <tr>\n",
       "      <th>916</th>\n",
       "      <td>38</td>\n",
       "      <td>M</td>\n",
       "      <td>NAP</td>\n",
       "      <td>138</td>\n",
       "      <td>175</td>\n",
       "      <td>0</td>\n",
       "      <td>Normal</td>\n",
       "      <td>173</td>\n",
       "      <td>N</td>\n",
       "      <td>0.0</td>\n",
       "      <td>Up</td>\n",
       "      <td>0</td>\n",
       "    </tr>\n",
       "  </tbody>\n",
       "</table>\n",
       "<p>917 rows × 12 columns</p>\n",
       "</div>"
      ],
      "text/plain": [
       "     Age Sex ChestPainType  RestingBP  Cholesterol  FastingBS RestingECG  \\\n",
       "0     40   M           ATA        140          289          0     Normal   \n",
       "1     49   F           NAP        160          180          0     Normal   \n",
       "2     37   M           ATA        130          283          0         ST   \n",
       "3     48   F           ASY        138          214          0     Normal   \n",
       "4     54   M           NAP        150          195          0     Normal   \n",
       "..   ...  ..           ...        ...          ...        ...        ...   \n",
       "912   45   M            TA        110          264          0     Normal   \n",
       "913   68   M           ASY        144          193          1     Normal   \n",
       "914   57   M           ASY        130          131          0     Normal   \n",
       "915   57   F           ATA        130          236          0        LVH   \n",
       "916   38   M           NAP        138          175          0     Normal   \n",
       "\n",
       "     MaxHR ExerciseAngina  Oldpeak ST_Slope  HeartDisease  \n",
       "0      172              N      0.0       Up             0  \n",
       "1      156              N      1.0     Flat             1  \n",
       "2       98              N      0.0       Up             0  \n",
       "3      108              Y      1.5     Flat             1  \n",
       "4      122              N      0.0       Up             0  \n",
       "..     ...            ...      ...      ...           ...  \n",
       "912    132              N      1.2     Flat             1  \n",
       "913    141              N      3.4     Flat             1  \n",
       "914    115              Y      1.2     Flat             1  \n",
       "915    174              N      0.0     Flat             1  \n",
       "916    173              N      0.0       Up             0  \n",
       "\n",
       "[917 rows x 12 columns]"
      ]
     },
     "execution_count": 10,
     "metadata": {},
     "output_type": "execute_result"
    }
   ],
   "source": [
    "df=df.reset_index()\n",
    "df=df.drop(['index'],axis=1)\n",
    "df"
   ]
  },
  {
   "cell_type": "code",
   "execution_count": 11,
   "id": "15f445b5",
   "metadata": {
    "colab": {
     "base_uri": "https://localhost:8080/",
     "height": 491
    },
    "id": "15f445b5",
    "outputId": "aefcd71d-4f59-48d2-9594-b6ea9b548ccc"
   },
   "outputs": [
    {
     "data": {
      "text/plain": [
       "array([[<AxesSubplot:title={'center':'Age'}>,\n",
       "        <AxesSubplot:title={'center':'RestingBP'}>],\n",
       "       [<AxesSubplot:title={'center':'Cholesterol'}>,\n",
       "        <AxesSubplot:title={'center':'MaxHR'}>],\n",
       "       [<AxesSubplot:title={'center':'Oldpeak'}>, <AxesSubplot:>]],\n",
       "      dtype=object)"
      ]
     },
     "execution_count": 11,
     "metadata": {},
     "output_type": "execute_result"
    },
    {
     "data": {
      "image/png": "[encoded data removed]",
      "text/plain": [
       "<Figure size 576x360 with 6 Axes>"
      ]
     },
     "metadata": {
      "needs_background": "light"
     },
     "output_type": "display_data"
    }
   ],
   "source": [
    "plt.rcParams[\"figure.figsize\"] = [8, 5]\n",
    "plt.rcParams[\"figure.autolayout\"] = True\n",
    "df[numFeatures].hist()\n"
   ]
  },
  {
   "cell_type": "code",
   "execution_count": 12,
   "id": "3806c8ce",
   "metadata": {
    "colab": {
     "base_uri": "https://localhost:8080/",
     "height": 1000
    },
    "id": "3806c8ce",
    "outputId": "c92ef05e-d2f4-4e63-a81c-5707fc45a032",
    "scrolled": false
   },
   "outputs": [
    {
     "data": {
      "image/png": "[encoded data removed]",
      "text/plain": [
       "<Figure size 576x360 with 1 Axes>"
      ]
     },
     "metadata": {
      "needs_background": "light"
     },
     "output_type": "display_data"
    },
    {
     "data": {
      "image/png": "[encoded data removed]",
      "text/plain": [
       "<Figure size 576x360 with 1 Axes>"
      ]
     },
     "metadata": {
      "needs_background": "light"
     },
     "output_type": "display_data"
    },
    {
     "data": {
      "image/png": "[encoded data removed]",
      "text/plain": [
       "<Figure size 576x360 with 1 Axes>"
      ]
     },
     "metadata": {
      "needs_background": "light"
     },
     "output_type": "display_data"
    },
    {
     "data": {
      "image/png": "[encoded data removed]",
      "text/plain": [
       "<Figure size 576x360 with 1 Axes>"
      ]
     },
     "metadata": {
      "needs_background": "light"
     },
     "output_type": "display_data"
    },
    {
     "data": {
      "image/png": "[encoded data removed]",
      "text/plain": [
       "<Figure size 576x360 with 1 Axes>"
      ]
     },
     "metadata": {
      "needs_background": "light"
     },
     "output_type": "display_data"
    },
    {
     "data": {
      "image/png": "[encoded data removed]",
      "text/plain": [
       "<Figure size 576x360 with 1 Axes>"
      ]
     },
     "metadata": {
      "needs_background": "light"
     },
     "output_type": "display_data"
    }
   ],
   "source": [
    "for cat in catFeatures:\n",
    "    fig, ax = plt.subplots()\n",
    "    df[cat].value_counts().plot(ax=ax, kind='bar', xlabel=cat, ylabel='frequency')\n",
    "    plt.show()"
   ]
  },
  {
   "cell_type": "code",
   "execution_count": 13,
   "id": "7ae00ea6",
   "metadata": {
    "colab": {
     "base_uri": "https://localhost:8080/"
    },
    "id": "7ae00ea6",
    "outputId": "4b1acc73-5320-4f71-c7ea-3c36102c5490"
   },
   "outputs": [
    {
     "name": "stdout",
     "output_type": "stream",
     "text": [
      "\n",
      "Describe for Sex\n",
      "count     917\n",
      "unique      2\n",
      "top         M\n",
      "freq      724\n",
      "Name: Sex, dtype: object\n",
      "\n",
      "Describe for ChestPainType\n",
      "count     917\n",
      "unique      4\n",
      "top       ASY\n",
      "freq      496\n",
      "Name: ChestPainType, dtype: object\n",
      "\n",
      "Describe for RestingECG\n",
      "count        917\n",
      "unique         3\n",
      "top       Normal\n",
      "freq         551\n",
      "Name: RestingECG, dtype: object\n",
      "\n",
      "Describe for ExerciseAngina\n",
      "count     917\n",
      "unique      2\n",
      "top         N\n",
      "freq      546\n",
      "Name: ExerciseAngina, dtype: object\n",
      "\n",
      "Describe for ST_Slope\n",
      "count      917\n",
      "unique       3\n",
      "top       Flat\n",
      "freq       459\n",
      "Name: ST_Slope, dtype: object\n",
      "\n",
      "Describe for FastingBS\n",
      "count    917.000000\n",
      "mean       0.233370\n",
      "std        0.423206\n",
      "min        0.000000\n",
      "25%        0.000000\n",
      "50%        0.000000\n",
      "75%        0.000000\n",
      "max        1.000000\n",
      "Name: FastingBS, dtype: float64\n"
     ]
    }
   ],
   "source": [
    "for i in catFeatures:\n",
    "    a=df[i].describe()\n",
    "    print('\\nDescribe for '+ str(i))\n",
    "    print(a)"
   ]
  },
  {
   "cell_type": "code",
   "execution_count": 14,
   "id": "f1105629",
   "metadata": {
    "colab": {
     "base_uri": "https://localhost:8080/"
    },
    "id": "f1105629",
    "outputId": "5cdd21a6-88ce-4e65-c1da-ef5826ff2e3c"
   },
   "outputs": [
    {
     "data": {
      "text/plain": [
       "Age               0\n",
       "Sex               0\n",
       "ChestPainType     0\n",
       "RestingBP         0\n",
       "Cholesterol       0\n",
       "FastingBS         0\n",
       "RestingECG        0\n",
       "MaxHR             0\n",
       "ExerciseAngina    0\n",
       "Oldpeak           0\n",
       "ST_Slope          0\n",
       "HeartDisease      0\n",
       "dtype: int64"
      ]
     },
     "execution_count": 14,
     "metadata": {},
     "output_type": "execute_result"
    }
   ],
   "source": [
    "df.isnull().sum() #No null observations"
   ]
  },
  {
   "cell_type": "code",
   "execution_count": 15,
   "id": "4afea72c",
   "metadata": {
    "colab": {
     "base_uri": "https://localhost:8080/"
    },
    "id": "4afea72c",
    "outputId": "e838e7d8-4226-48a9-9dfa-d39c57287cd8"
   },
   "outputs": [
    {
     "data": {
      "text/plain": [
       "['Age', 'RestingBP', 'Cholesterol', 'MaxHR', 'Oldpeak', 'HeartDisease']"
      ]
     },
     "execution_count": 15,
     "metadata": {},
     "output_type": "execute_result"
    }
   ],
   "source": [
    "numFeatures.append('HeartDisease')\n",
    "numFeatures"
   ]
  },
  {
   "cell_type": "code",
   "execution_count": 16,
   "id": "fa0a16c3",
   "metadata": {
    "colab": {
     "base_uri": "https://localhost:8080/"
    },
    "id": "fa0a16c3",
    "outputId": "3ec6b09d-ee9b-4a02-c8eb-2b314a323034"
   },
   "outputs": [
    {
     "name": "stdout",
     "output_type": "stream",
     "text": [
      "                   Age  RestingBP  Cholesterol     MaxHR   Oldpeak  \\\n",
      "Age           1.000000   0.263084    -0.095142 -0.382280  0.258563   \n",
      "RestingBP     0.263084   1.000000     0.089392 -0.109693  0.174252   \n",
      "Cholesterol  -0.095142   0.089392     1.000000  0.237705  0.051390   \n",
      "MaxHR        -0.382280  -0.109693     0.237705  1.000000 -0.161213   \n",
      "Oldpeak       0.258563   0.174252     0.051390 -0.161213  1.000000   \n",
      "HeartDisease  0.282012   0.117990    -0.231479 -0.401410  0.403638   \n",
      "\n",
      "              HeartDisease  \n",
      "Age               0.282012  \n",
      "RestingBP         0.117990  \n",
      "Cholesterol      -0.231479  \n",
      "MaxHR            -0.401410  \n",
      "Oldpeak           0.403638  \n",
      "HeartDisease      1.000000  \n"
     ]
    }
   ],
   "source": [
    "corr_matrix=df[numFeatures].corr()\n",
    "print(corr_matrix)"
   ]
  },
  {
   "cell_type": "code",
   "execution_count": 17,
   "id": "db90c781",
   "metadata": {
    "colab": {
     "base_uri": "https://localhost:8080/",
     "height": 365
    },
    "id": "db90c781",
    "outputId": "6e9d92b5-2c1a-4992-a37e-d7457f70ec5f",
    "scrolled": false
   },
   "outputs": [
    {
     "data": {
      "image/png": "[encoded data removed]",
      "text/plain": [
       "<Figure size 576x360 with 2 Axes>"
      ]
     },
     "metadata": {
      "needs_background": "light"
     },
     "output_type": "display_data"
    }
   ],
   "source": [
    "#Visualize Pearson pairwise correlation of features\n",
    "fig = plt.figure()\n",
    "sns.set(rc = {'figure.figsize':(15,8)})\n",
    "ax = sns.heatmap(corr_matrix,cmap='coolwarm', vmin=-1, vmax=1,annot = True)\n",
    "plt.xticks(rotation=90)\n",
    "ax.set_xticklabels(df[numFeatures].columns)\n",
    "ax.set_yticklabels(df[numFeatures].columns)\n",
    "plt.show()"
   ]
  },
  {
   "cell_type": "markdown",
   "id": "36f66a37",
   "metadata": {},
   "source": [
    "None of the variables have strong correlations with one another. The largest correlation is between Heart Disease and MaxHR at -0.4. The -0.4 means that maxHR and Heart Disease are moderately inversely correlated with one another. The largest positive correaltion occurs between the Heart Disease variable and the Oldpeak variable with a value of 0.4."
   ]
  },
  {
   "cell_type": "code",
   "execution_count": 18,
   "id": "9126bb64",
   "metadata": {},
   "outputs": [
    {
     "data": {
      "text/html": [
       "<div>\n",
       "<style scoped>\n",
       "    .dataframe tbody tr th:only-of-type {\n",
       "        vertical-align: middle;\n",
       "    }\n",
       "\n",
       "    .dataframe tbody tr th {\n",
       "        vertical-align: top;\n",
       "    }\n",
       "\n",
       "    .dataframe thead th {\n",
       "        text-align: right;\n",
       "    }\n",
       "</style>\n",
       "<table border=\"1\" class=\"dataframe\">\n",
       "  <thead>\n",
       "    <tr style=\"text-align: right;\">\n",
       "      <th></th>\n",
       "      <th>Age</th>\n",
       "      <th>Sex</th>\n",
       "      <th>ChestPainType</th>\n",
       "      <th>RestingBP</th>\n",
       "      <th>Cholesterol</th>\n",
       "      <th>FastingBS</th>\n",
       "      <th>RestingECG</th>\n",
       "      <th>MaxHR</th>\n",
       "      <th>ExerciseAngina</th>\n",
       "      <th>Oldpeak</th>\n",
       "      <th>ST_Slope</th>\n",
       "    </tr>\n",
       "  </thead>\n",
       "  <tbody>\n",
       "    <tr>\n",
       "      <th>0</th>\n",
       "      <td>40</td>\n",
       "      <td>M</td>\n",
       "      <td>ATA</td>\n",
       "      <td>140</td>\n",
       "      <td>289</td>\n",
       "      <td>0</td>\n",
       "      <td>Normal</td>\n",
       "      <td>172</td>\n",
       "      <td>N</td>\n",
       "      <td>0.0</td>\n",
       "      <td>Up</td>\n",
       "    </tr>\n",
       "    <tr>\n",
       "      <th>1</th>\n",
       "      <td>49</td>\n",
       "      <td>F</td>\n",
       "      <td>NAP</td>\n",
       "      <td>160</td>\n",
       "      <td>180</td>\n",
       "      <td>0</td>\n",
       "      <td>Normal</td>\n",
       "      <td>156</td>\n",
       "      <td>N</td>\n",
       "      <td>1.0</td>\n",
       "      <td>Flat</td>\n",
       "    </tr>\n",
       "    <tr>\n",
       "      <th>2</th>\n",
       "      <td>37</td>\n",
       "      <td>M</td>\n",
       "      <td>ATA</td>\n",
       "      <td>130</td>\n",
       "      <td>283</td>\n",
       "      <td>0</td>\n",
       "      <td>ST</td>\n",
       "      <td>98</td>\n",
       "      <td>N</td>\n",
       "      <td>0.0</td>\n",
       "      <td>Up</td>\n",
       "    </tr>\n",
       "    <tr>\n",
       "      <th>3</th>\n",
       "      <td>48</td>\n",
       "      <td>F</td>\n",
       "      <td>ASY</td>\n",
       "      <td>138</td>\n",
       "      <td>214</td>\n",
       "      <td>0</td>\n",
       "      <td>Normal</td>\n",
       "      <td>108</td>\n",
       "      <td>Y</td>\n",
       "      <td>1.5</td>\n",
       "      <td>Flat</td>\n",
       "    </tr>\n",
       "    <tr>\n",
       "      <th>4</th>\n",
       "      <td>54</td>\n",
       "      <td>M</td>\n",
       "      <td>NAP</td>\n",
       "      <td>150</td>\n",
       "      <td>195</td>\n",
       "      <td>0</td>\n",
       "      <td>Normal</td>\n",
       "      <td>122</td>\n",
       "      <td>N</td>\n",
       "      <td>0.0</td>\n",
       "      <td>Up</td>\n",
       "    </tr>\n",
       "    <tr>\n",
       "      <th>...</th>\n",
       "      <td>...</td>\n",
       "      <td>...</td>\n",
       "      <td>...</td>\n",
       "      <td>...</td>\n",
       "      <td>...</td>\n",
       "      <td>...</td>\n",
       "      <td>...</td>\n",
       "      <td>...</td>\n",
       "      <td>...</td>\n",
       "      <td>...</td>\n",
       "      <td>...</td>\n",
       "    </tr>\n",
       "    <tr>\n",
       "      <th>912</th>\n",
       "      <td>45</td>\n",
       "      <td>M</td>\n",
       "      <td>TA</td>\n",
       "      <td>110</td>\n",
       "      <td>264</td>\n",
       "      <td>0</td>\n",
       "      <td>Normal</td>\n",
       "      <td>132</td>\n",
       "      <td>N</td>\n",
       "      <td>1.2</td>\n",
       "      <td>Flat</td>\n",
       "    </tr>\n",
       "    <tr>\n",
       "      <th>913</th>\n",
       "      <td>68</td>\n",
       "      <td>M</td>\n",
       "      <td>ASY</td>\n",
       "      <td>144</td>\n",
       "      <td>193</td>\n",
       "      <td>1</td>\n",
       "      <td>Normal</td>\n",
       "      <td>141</td>\n",
       "      <td>N</td>\n",
       "      <td>3.4</td>\n",
       "      <td>Flat</td>\n",
       "    </tr>\n",
       "    <tr>\n",
       "      <th>914</th>\n",
       "      <td>57</td>\n",
       "      <td>M</td>\n",
       "      <td>ASY</td>\n",
       "      <td>130</td>\n",
       "      <td>131</td>\n",
       "      <td>0</td>\n",
       "      <td>Normal</td>\n",
       "      <td>115</td>\n",
       "      <td>Y</td>\n",
       "      <td>1.2</td>\n",
       "      <td>Flat</td>\n",
       "    </tr>\n",
       "    <tr>\n",
       "      <th>915</th>\n",
       "      <td>57</td>\n",
       "      <td>F</td>\n",
       "      <td>ATA</td>\n",
       "      <td>130</td>\n",
       "      <td>236</td>\n",
       "      <td>0</td>\n",
       "      <td>LVH</td>\n",
       "      <td>174</td>\n",
       "      <td>N</td>\n",
       "      <td>0.0</td>\n",
       "      <td>Flat</td>\n",
       "    </tr>\n",
       "    <tr>\n",
       "      <th>916</th>\n",
       "      <td>38</td>\n",
       "      <td>M</td>\n",
       "      <td>NAP</td>\n",
       "      <td>138</td>\n",
       "      <td>175</td>\n",
       "      <td>0</td>\n",
       "      <td>Normal</td>\n",
       "      <td>173</td>\n",
       "      <td>N</td>\n",
       "      <td>0.0</td>\n",
       "      <td>Up</td>\n",
       "    </tr>\n",
       "  </tbody>\n",
       "</table>\n",
       "<p>917 rows × 11 columns</p>\n",
       "</div>"
      ],
      "text/plain": [
       "     Age Sex ChestPainType  RestingBP  Cholesterol  FastingBS RestingECG  \\\n",
       "0     40   M           ATA        140          289          0     Normal   \n",
       "1     49   F           NAP        160          180          0     Normal   \n",
       "2     37   M           ATA        130          283          0         ST   \n",
       "3     48   F           ASY        138          214          0     Normal   \n",
       "4     54   M           NAP        150          195          0     Normal   \n",
       "..   ...  ..           ...        ...          ...        ...        ...   \n",
       "912   45   M            TA        110          264          0     Normal   \n",
       "913   68   M           ASY        144          193          1     Normal   \n",
       "914   57   M           ASY        130          131          0     Normal   \n",
       "915   57   F           ATA        130          236          0        LVH   \n",
       "916   38   M           NAP        138          175          0     Normal   \n",
       "\n",
       "     MaxHR ExerciseAngina  Oldpeak ST_Slope  \n",
       "0      172              N      0.0       Up  \n",
       "1      156              N      1.0     Flat  \n",
       "2       98              N      0.0       Up  \n",
       "3      108              Y      1.5     Flat  \n",
       "4      122              N      0.0       Up  \n",
       "..     ...            ...      ...      ...  \n",
       "912    132              N      1.2     Flat  \n",
       "913    141              N      3.4     Flat  \n",
       "914    115              Y      1.2     Flat  \n",
       "915    174              N      0.0     Flat  \n",
       "916    173              N      0.0       Up  \n",
       "\n",
       "[917 rows x 11 columns]"
      ]
     },
     "execution_count": 18,
     "metadata": {},
     "output_type": "execute_result"
    }
   ],
   "source": [
    "# creates a new dataframe for PCA/KMeans clustering\n",
    "df_cluster = df[allFeatures]\n",
    "df_cluster"
   ]
  },
  {
   "cell_type": "code",
   "execution_count": 19,
   "id": "808686d2",
   "metadata": {},
   "outputs": [],
   "source": [
    "# imports scaling function\n",
    "from sklearn.preprocessing import scale\n",
    "\n",
    "# new df with get dummies\n",
    "df_new = pd.get_dummies(df_cluster, columns=catFeatures)\n",
    "\n",
    "# scaled the data\n",
    "scaled = scale(df_new)\n",
    "# perform the PCA to obtain two principle components\n",
    "pca_model = PCA()\n",
    "pca_model = pca_model.fit_transform(scaled)\n",
    "\n",
    "pca_arr = []\n",
    "\n",
    "for i in range(21):\n",
    "    i = i + 1\n",
    "    string = \"PCA\" + str(i)\n",
    "    pca_arr.append(string)\n",
    "    \n",
    "# create a dataframe with the PCA components\n",
    "df_pca = pd.DataFrame(pca_model, columns = pca_arr)"
   ]
  },
  {
   "cell_type": "code",
   "execution_count": 41,
   "id": "ff382dae",
   "metadata": {},
   "outputs": [
    {
     "data": {
      "image/png": "[encoded data removed]",
      "text/plain": [
       "<Figure size 1080x576 with 1 Axes>"
      ]
     },
     "metadata": {},
     "output_type": "display_data"
    }
   ],
   "source": [
    "# imports K Means clustering\n",
    "from sklearn.cluster import KMeans\n",
    "fig, ax1 = plt.subplots()\n",
    "\n",
    "# scales the data\n",
    "scaled = scale(df_new)\n",
    "\n",
    "# K = 2 for the KMeans algorithm\n",
    "y_pred = KMeans(n_clusters = 2, init = 'random', max_iter = 5).fit_predict(scaled)\n",
    "plt.scatter(scaled[:,0], scaled[:,1], c = y_pred, cmap = 'autumn')\n",
    "    \n",
    "plt.show()"
   ]
  },
  {
   "cell_type": "code",
   "execution_count": 21,
   "id": "0df7e562",
   "metadata": {},
   "outputs": [
    {
     "data": {
      "image/png": "[encoded data removed]",
      "text/plain": [
       "<Figure size 1080x576 with 1 Axes>"
      ]
     },
     "metadata": {},
     "output_type": "display_data"
    }
   ],
   "source": [
    "ks = list(range(1,11))\n",
    "\n",
    "scores = []\n",
    "\n",
    "for k in ks:\n",
    "    model = KMeans(n_clusters=k)\n",
    "    model.fit_predict(df_new)\n",
    "    scores.append(-model.score(df_new))\n",
    "    \n",
    "plt.plot(ks,scores)\n",
    "plt.ylabel('tital intra-cluster distance')\n",
    "plt.xlabel('k')\n",
    "plt.show()"
   ]
  },
  {
   "cell_type": "markdown",
   "id": "ff3aeee5",
   "metadata": {},
   "source": [
    "Visual observation of the intra-cluster shows that k = 2 is the optimum k value. However, the KMeans clustering performed on the PCA analysis does not provide a definite separation between the two groups.  "
   ]
  },
  {
   "cell_type": "code",
   "execution_count": 32,
   "id": "6abdafb6",
   "metadata": {
    "id": "6abdafb6"
   },
   "outputs": [],
   "source": [
    "#dfC is the dataFrame w/ cholesterol\n",
    "dfC=df\n",
    "#Remove Cholesterol variable\n",
    "df = df.drop(labels = \"Cholesterol\", axis = 1)"
   ]
  },
  {
   "cell_type": "code",
   "execution_count": 33,
   "id": "ae1cc5e8",
   "metadata": {
    "colab": {
     "base_uri": "https://localhost:8080/"
    },
    "id": "ae1cc5e8",
    "outputId": "11b5d61b-e12b-41ea-da12-96ff27ae709d"
   },
   "outputs": [
    {
     "name": "stdout",
     "output_type": "stream",
     "text": [
      "1\n",
      "2\n",
      "5\n",
      "7\n",
      "9\n",
      "['Sex', 'ChestPainType', 'RestingECG', 'ExerciseAngina', 'ST_Slope', 'FastingBS']\n",
      "['Age', 'RestingBP', 'MaxHR', 'Oldpeak']\n"
     ]
    }
   ],
   "source": [
    "allFeatures=df.columns[0:len(df.columns)-1].tolist()\n",
    "\n",
    "catFeatures=[]\n",
    "for i in range((len(df.columns)-1)):\n",
    "    if df.dtypes[i]=='O':\n",
    "        print(i)\n",
    "        catFeatures.append(i)\n",
    "catFeatures.append(4) #fasting bs is categorical 1: if FastingBS > 120 mg/dl, 0: otherwise\n",
    "\n",
    "catFeatures=df.columns[catFeatures].tolist()\n",
    "print(catFeatures)\n",
    "\n",
    "numFeatures= [i for i in allFeatures if not(i in catFeatures)]\n",
    "print(numFeatures)"
   ]
  },
  {
   "cell_type": "code",
   "execution_count": 24,
   "id": "d3d0bfea",
   "metadata": {
    "id": "d3d0bfea"
   },
   "outputs": [],
   "source": [
    "catFeaturesC = catFeatures\n",
    "numFeaturesC = numFeatures.append(\"Cholesterol\")"
   ]
  },
  {
   "cell_type": "code",
   "execution_count": 25,
   "id": "49cba144",
   "metadata": {
    "id": "49cba144"
   },
   "outputs": [],
   "source": [
    "#HC CLUSTERING\n",
    "import os\n",
    "import pandas as pd\n",
    "import matplotlib.pyplot as plt\n",
    "import numpy as np\n",
    "from IPython.display import display\n",
    "from sklearn import preprocessing"
   ]
  },
  {
   "cell_type": "code",
   "execution_count": 26,
   "id": "5ced529e",
   "metadata": {
    "id": "5ced529e"
   },
   "outputs": [
    {
     "ename": "KeyError",
     "evalue": "\"['Cholesterol'] not in index\"",
     "output_type": "error",
     "traceback": [
      "\u001b[0;31m---------------------------------------------------------------------------\u001b[0m",
      "\u001b[0;31mKeyError\u001b[0m                                  Traceback (most recent call last)",
      "\u001b[0;32m<ipython-input-26-717b7f6ed47d>\u001b[0m in \u001b[0;36m<module>\u001b[0;34m\u001b[0m\n\u001b[1;32m      6\u001b[0m \u001b[0;34m\u001b[0m\u001b[0m\n\u001b[1;32m      7\u001b[0m \u001b[0;31m#STANDARD SCALER\u001b[0m\u001b[0;34m\u001b[0m\u001b[0;34m\u001b[0m\u001b[0;34m\u001b[0m\u001b[0m\n\u001b[0;32m----> 8\u001b[0;31m \u001b[0mscaler\u001b[0m\u001b[0;34m.\u001b[0m\u001b[0mfit\u001b[0m\u001b[0;34m(\u001b[0m\u001b[0mX\u001b[0m\u001b[0;34m[\u001b[0m\u001b[0mnumFeatures\u001b[0m\u001b[0;34m]\u001b[0m\u001b[0;34m)\u001b[0m\u001b[0;34m\u001b[0m\u001b[0;34m\u001b[0m\u001b[0m\n\u001b[0m\u001b[1;32m      9\u001b[0m \u001b[0mX\u001b[0m\u001b[0;34m[\u001b[0m\u001b[0mnumFeatures\u001b[0m\u001b[0;34m]\u001b[0m\u001b[0;34m=\u001b[0m\u001b[0mscaler\u001b[0m\u001b[0;34m.\u001b[0m\u001b[0mtransform\u001b[0m\u001b[0;34m(\u001b[0m\u001b[0mX\u001b[0m\u001b[0;34m[\u001b[0m\u001b[0mnumFeatures\u001b[0m\u001b[0;34m]\u001b[0m\u001b[0;34m)\u001b[0m\u001b[0;34m\u001b[0m\u001b[0;34m\u001b[0m\u001b[0m\n\u001b[1;32m     10\u001b[0m \u001b[0;34m\u001b[0m\u001b[0m\n",
      "\u001b[0;32m/opt/anaconda3/lib/python3.8/site-packages/pandas/core/frame.py\u001b[0m in \u001b[0;36m__getitem__\u001b[0;34m(self, key)\u001b[0m\n\u001b[1;32m   3028\u001b[0m             \u001b[0;32mif\u001b[0m \u001b[0mis_iterator\u001b[0m\u001b[0;34m(\u001b[0m\u001b[0mkey\u001b[0m\u001b[0;34m)\u001b[0m\u001b[0;34m:\u001b[0m\u001b[0;34m\u001b[0m\u001b[0;34m\u001b[0m\u001b[0m\n\u001b[1;32m   3029\u001b[0m                 \u001b[0mkey\u001b[0m \u001b[0;34m=\u001b[0m \u001b[0mlist\u001b[0m\u001b[0;34m(\u001b[0m\u001b[0mkey\u001b[0m\u001b[0;34m)\u001b[0m\u001b[0;34m\u001b[0m\u001b[0;34m\u001b[0m\u001b[0m\n\u001b[0;32m-> 3030\u001b[0;31m             \u001b[0mindexer\u001b[0m \u001b[0;34m=\u001b[0m \u001b[0mself\u001b[0m\u001b[0;34m.\u001b[0m\u001b[0mloc\u001b[0m\u001b[0;34m.\u001b[0m\u001b[0m_get_listlike_indexer\u001b[0m\u001b[0;34m(\u001b[0m\u001b[0mkey\u001b[0m\u001b[0;34m,\u001b[0m \u001b[0maxis\u001b[0m\u001b[0;34m=\u001b[0m\u001b[0;36m1\u001b[0m\u001b[0;34m,\u001b[0m \u001b[0mraise_missing\u001b[0m\u001b[0;34m=\u001b[0m\u001b[0;32mTrue\u001b[0m\u001b[0;34m)\u001b[0m\u001b[0;34m[\u001b[0m\u001b[0;36m1\u001b[0m\u001b[0;34m]\u001b[0m\u001b[0;34m\u001b[0m\u001b[0;34m\u001b[0m\u001b[0m\n\u001b[0m\u001b[1;32m   3031\u001b[0m \u001b[0;34m\u001b[0m\u001b[0m\n\u001b[1;32m   3032\u001b[0m         \u001b[0;31m# take() does not accept boolean indexers\u001b[0m\u001b[0;34m\u001b[0m\u001b[0;34m\u001b[0m\u001b[0;34m\u001b[0m\u001b[0m\n",
      "\u001b[0;32m/opt/anaconda3/lib/python3.8/site-packages/pandas/core/indexing.py\u001b[0m in \u001b[0;36m_get_listlike_indexer\u001b[0;34m(self, key, axis, raise_missing)\u001b[0m\n\u001b[1;32m   1264\u001b[0m             \u001b[0mkeyarr\u001b[0m\u001b[0;34m,\u001b[0m \u001b[0mindexer\u001b[0m\u001b[0;34m,\u001b[0m \u001b[0mnew_indexer\u001b[0m \u001b[0;34m=\u001b[0m \u001b[0max\u001b[0m\u001b[0;34m.\u001b[0m\u001b[0m_reindex_non_unique\u001b[0m\u001b[0;34m(\u001b[0m\u001b[0mkeyarr\u001b[0m\u001b[0;34m)\u001b[0m\u001b[0;34m\u001b[0m\u001b[0;34m\u001b[0m\u001b[0m\n\u001b[1;32m   1265\u001b[0m \u001b[0;34m\u001b[0m\u001b[0m\n\u001b[0;32m-> 1266\u001b[0;31m         \u001b[0mself\u001b[0m\u001b[0;34m.\u001b[0m\u001b[0m_validate_read_indexer\u001b[0m\u001b[0;34m(\u001b[0m\u001b[0mkeyarr\u001b[0m\u001b[0;34m,\u001b[0m \u001b[0mindexer\u001b[0m\u001b[0;34m,\u001b[0m \u001b[0maxis\u001b[0m\u001b[0;34m,\u001b[0m \u001b[0mraise_missing\u001b[0m\u001b[0;34m=\u001b[0m\u001b[0mraise_missing\u001b[0m\u001b[0;34m)\u001b[0m\u001b[0;34m\u001b[0m\u001b[0;34m\u001b[0m\u001b[0m\n\u001b[0m\u001b[1;32m   1267\u001b[0m         \u001b[0;32mreturn\u001b[0m \u001b[0mkeyarr\u001b[0m\u001b[0;34m,\u001b[0m \u001b[0mindexer\u001b[0m\u001b[0;34m\u001b[0m\u001b[0;34m\u001b[0m\u001b[0m\n\u001b[1;32m   1268\u001b[0m \u001b[0;34m\u001b[0m\u001b[0m\n",
      "\u001b[0;32m/opt/anaconda3/lib/python3.8/site-packages/pandas/core/indexing.py\u001b[0m in \u001b[0;36m_validate_read_indexer\u001b[0;34m(self, key, indexer, axis, raise_missing)\u001b[0m\n\u001b[1;32m   1314\u001b[0m             \u001b[0;32mif\u001b[0m \u001b[0mraise_missing\u001b[0m\u001b[0;34m:\u001b[0m\u001b[0;34m\u001b[0m\u001b[0;34m\u001b[0m\u001b[0m\n\u001b[1;32m   1315\u001b[0m                 \u001b[0mnot_found\u001b[0m \u001b[0;34m=\u001b[0m \u001b[0mlist\u001b[0m\u001b[0;34m(\u001b[0m\u001b[0mset\u001b[0m\u001b[0;34m(\u001b[0m\u001b[0mkey\u001b[0m\u001b[0;34m)\u001b[0m \u001b[0;34m-\u001b[0m \u001b[0mset\u001b[0m\u001b[0;34m(\u001b[0m\u001b[0max\u001b[0m\u001b[0;34m)\u001b[0m\u001b[0;34m)\u001b[0m\u001b[0;34m\u001b[0m\u001b[0;34m\u001b[0m\u001b[0m\n\u001b[0;32m-> 1316\u001b[0;31m                 \u001b[0;32mraise\u001b[0m \u001b[0mKeyError\u001b[0m\u001b[0;34m(\u001b[0m\u001b[0;34mf\"{not_found} not in index\"\u001b[0m\u001b[0;34m)\u001b[0m\u001b[0;34m\u001b[0m\u001b[0;34m\u001b[0m\u001b[0m\n\u001b[0m\u001b[1;32m   1317\u001b[0m \u001b[0;34m\u001b[0m\u001b[0m\n\u001b[1;32m   1318\u001b[0m             \u001b[0mnot_found\u001b[0m \u001b[0;34m=\u001b[0m \u001b[0mkey\u001b[0m\u001b[0;34m[\u001b[0m\u001b[0mmissing_mask\u001b[0m\u001b[0;34m]\u001b[0m\u001b[0;34m\u001b[0m\u001b[0;34m\u001b[0m\u001b[0m\n",
      "\u001b[0;31mKeyError\u001b[0m: \"['Cholesterol'] not in index\""
     ]
    }
   ],
   "source": [
    "X = df[allFeatures]\n",
    "y = df[\"HeartDisease\"]\n",
    "\n",
    "scaler = StandardScaler() #Creates a SKlearn standard Scaler object\n",
    "\n",
    "    \n",
    "#STANDARD SCALER\n",
    "scaler.fit(X[numFeatures]) \n",
    "X[numFeatures]=scaler.transform(X[numFeatures])\n",
    "\n",
    "#Label encoding\n",
    "le = preprocessing.LabelEncoder()\n",
    "for feature in catFeatures:\n",
    "    X[feature] = le.fit_transform(X[feature])"
   ]
  },
  {
   "cell_type": "code",
   "execution_count": null,
   "id": "f6a0305f",
   "metadata": {
    "colab": {
     "base_uri": "https://localhost:8080/",
     "height": 725
    },
    "id": "f6a0305f",
    "outputId": "5fccb096-00c8-4199-d707-f375674e9e4f"
   },
   "outputs": [],
   "source": [
    "# Heat map with scaling and label encoder\n",
    "g = sns.clustermap(X, method = \"average\", metric=\"euclidean\", cmap=\"Blues\", standard_scale = 1)"
   ]
  },
  {
   "cell_type": "code",
   "execution_count": null,
   "id": "3a4c4030",
   "metadata": {
    "id": "3a4c4030"
   },
   "outputs": [],
   "source": [
    "X = df[allFeatures]\n",
    "y = df[\"HeartDisease\"]\n",
    "\n",
    "scaler = StandardScaler() #Creates a SKlearn standard Scaler object\n",
    "\n",
    "    \n",
    "#STANDARD SCALER\n",
    "scaler.fit(X[numFeatures]) \n",
    "X[numFeatures]=scaler.transform(X[numFeatures])\n",
    "\n",
    "#Get dummies\n",
    "X = pd.get_dummies(X, columns=catFeatures) \n"
   ]
  },
  {
   "cell_type": "code",
   "execution_count": null,
   "id": "9f9a7cf2",
   "metadata": {
    "colab": {
     "base_uri": "https://localhost:8080/",
     "height": 725
    },
    "id": "9f9a7cf2",
    "outputId": "a54031a2-f8de-4430-cea6-b1ac5c80f5ee"
   },
   "outputs": [],
   "source": [
    "# Heat map with scaling and get dummies\n",
    "g = sns.clustermap(X, method = \"average\", metric=\"euclidean\", cmap=\"Blues\", standard_scale = 1)"
   ]
  },
  {
   "cell_type": "code",
   "execution_count": null,
   "id": "59de8d2d",
   "metadata": {
    "colab": {
     "base_uri": "https://localhost:8080/",
     "height": 365
    },
    "id": "59de8d2d",
    "outputId": "07364a71-9492-4fd6-ae72-f82e47bc922f"
   },
   "outputs": [],
   "source": [
    "from scipy.cluster.hierarchy import dendrogram, linkage\n",
    "\n",
    "linkage_matrix = linkage(X, 'ward')\n",
    "figure = plt.figure(figsize=(10, 5))\n",
    "dendrogram(\n",
    "    linkage_matrix,\n",
    "    color_threshold=0,\n",
    ")\n",
    "plt.title('Hierarchical Clustering Dendrogram (Ward)')\n",
    "plt.xlabel('sample index')\n",
    "plt.ylabel('distance')\n",
    "plt.tight_layout()\n",
    "plt.show()"
   ]
  },
  {
   "cell_type": "markdown",
   "id": "0f907160",
   "metadata": {},
   "source": [
    "## Analysis without Cholesterol"
   ]
  },
  {
   "cell_type": "code",
   "execution_count": null,
   "id": "7bf6d0b8",
   "metadata": {
    "id": "7bf6d0b8"
   },
   "outputs": [],
   "source": [
    "X_train, X_test, y_train, y_test = train_test_split(df[allFeatures], df[\"HeartDisease\"], test_size = 0.2, random_state=42, stratify=df[\"HeartDisease\"])\n"
   ]
  },
  {
   "cell_type": "code",
   "execution_count": null,
   "id": "82ff7ea2",
   "metadata": {
    "colab": {
     "base_uri": "https://localhost:8080/",
     "height": 424
    },
    "id": "82ff7ea2",
    "outputId": "57e13c81-0a40-4c45-a0cc-b2b1e1095e18"
   },
   "outputs": [],
   "source": [
    "train = pd.concat([X_train, y_train], axis=1)\n",
    "train = train.reset_index(drop=True)\n",
    "train"
   ]
  },
  {
   "cell_type": "code",
   "execution_count": null,
   "id": "91eea9b7",
   "metadata": {
    "id": "91eea9b7"
   },
   "outputs": [],
   "source": [
    "np.random.seed(1) #Set a random seed for reproducibility\n",
    "inBags = [] \n",
    "outBags = []\n",
    "\n",
    "for i in range(2): #Loop through 50 times to create 50 InBags/OutBags\n",
    "    \n",
    "    curInBag = sklearn.utils.resample(train, replace=True) #Creates a boot strap inBag the length of boston with replacement\n",
    "    \n",
    "    outBagRows = [] #to hold all of the rows not represented in the inBag\n",
    "    for i in range(len(train)): \n",
    "        if i not in np.unique(list(curInBag.index)):  #Check to see if the row is not represented in the current in bag\n",
    "            \n",
    "            outBagRows.append(train.loc[i].to_frame().T) # When I select a row not in the in bag, it is a series\n",
    "                                                           # I Use the .to_frame to convert the series to a DataFrame\n",
    "                                                           # The data Frame is oriented the wrong way so the .T transposes it\n",
    "    \n",
    "    curOutBag = pd.concat(outBagRows) #This concatenates all of the out bag rows into one DF\n",
    "\n",
    "    #This if statment checks to see if every row of boston is represnted between the cur inbag and the cur outbag\n",
    "    if len(np.unique(list(curInBag.index))) + len(np.unique(list(curOutBag.index))) != len(train):\n",
    "        print(\"ERROR! ALl of the unique values should be represented\")\n",
    "\n",
    "    #Add the inbag/outBag to their respective lists\n",
    "    inBags.append(curInBag)\n",
    "    outBags.append(curOutBag)"
   ]
  },
  {
   "cell_type": "code",
   "execution_count": null,
   "id": "36ef28ea",
   "metadata": {
    "id": "36ef28ea"
   },
   "outputs": [],
   "source": [
    "scaler = StandardScaler() #Creates a SKlearn standard Scaler object\n",
    "\n",
    "for i in range(len(inBags)): #Loop through each of the inBags\n",
    "    \n",
    "    #STANDARD SCALER\n",
    "    scaler.fit(inBags[i][numFeatures]) #Transforms inBags\n",
    "    inBags[i][numFeatures]=scaler.transform(inBags[i][numFeatures])\n",
    "\n",
    "    scaler.fit(outBags[i][numFeatures]) #Transforms outBags\n",
    "    outBags[i][numFeatures]=scaler.transform(outBags[i][numFeatures])\n",
    "    \n",
    "    #ENCODE CATEGORICAL VARIABLES\n",
    "   \n",
    "    inBags[i] = pd.get_dummies(inBags[i], columns=catFeatures)  #Transform inBags\n",
    "    outBags[i] = pd.get_dummies(outBags[i], columns=catFeatures)  #Transform outBags\n",
    "    \n"
   ]
  },
  {
   "cell_type": "code",
   "execution_count": null,
   "id": "d9fd3b44",
   "metadata": {
    "id": "d9fd3b44"
   },
   "outputs": [],
   "source": [
    "xFeatures = inBags[0].columns.tolist()\n",
    "xFeatures.remove('HeartDisease')\n",
    "yFeatures = ['HeartDisease']"
   ]
  },
  {
   "cell_type": "code",
   "execution_count": null,
   "id": "fe3db1b6",
   "metadata": {
    "id": "fe3db1b6"
   },
   "outputs": [],
   "source": [
    "cv_inner = StratifiedKFold(n_splits=5, shuffle=True, random_state=2)\n",
    "\n",
    "model_rf=RandomForestClassifier(random_state=1)\n",
    "rf_pipeline = Pipeline([ \n",
    "    ('model_rf',model_rf)\n",
    "])\n",
    "rf_param = {\n",
    "               'model_rf__bootstrap': [True, False],\n",
    "               'model_rf__max_depth': [2, 3, 5, 7, 9],\n",
    "               'model_rf__max_features': [10],\n",
    "               'model_rf__n_estimators': [10, 100, 500]} \n",
    "\n",
    "rf_random_f1 = RandomizedSearchCV(rf_pipeline, rf_param, cv=cv_inner, scoring='f1')\n",
    "rf_random_auc = RandomizedSearchCV(rf_pipeline, rf_param, cv=cv_inner, scoring='roc_auc')"
   ]
  },
  {
   "cell_type": "code",
   "execution_count": null,
   "id": "a801483a",
   "metadata": {
    "colab": {
     "base_uri": "https://localhost:8080/"
    },
    "id": "a801483a",
    "outputId": "70c4a5ad-2980-4073-bda8-5fb80afb2101"
   },
   "outputs": [],
   "source": [
    "rfModels_f1 = []\n",
    "rfModels_auc = []\n",
    "\n",
    "rfScores_f1 = []\n",
    "rfScores_auc = []\n",
    "\n",
    "for i in range(len(inBags)):\n",
    "    print(i)\n",
    "    model_f1 = rf_random_f1.fit(inBags[i][xFeatures], np.asarray(inBags[i][yFeatures].squeeze().tolist()))\n",
    "    rfModels_f1.append(model_f1)\n",
    "    \n",
    "    model_auc = rf_random_auc.fit(inBags[i][xFeatures], np.asarray(inBags[i][yFeatures].squeeze().tolist()))\n",
    "    rfModels_auc.append(model_auc)\n",
    "    \n",
    "    curScore_f1 = f1_score(outBags[i][yFeatures].squeeze().tolist(), model_f1.predict(outBags[i][xFeatures]))\n",
    "    rfScores_f1.append(curScore_f1)\n",
    "    \n",
    "    curScore_auc = roc_auc_score(outBags[i][yFeatures].squeeze().tolist(), model_auc.predict(outBags[i][xFeatures]))\n",
    "    rfScores_auc.append(curScore_auc)"
   ]
  },
  {
   "cell_type": "code",
   "execution_count": null,
   "id": "8c39ff70",
   "metadata": {
    "colab": {
     "base_uri": "https://localhost:8080/"
    },
    "id": "8c39ff70",
    "outputId": "7ac6938d-5478-499b-d95c-860409a395ec"
   },
   "outputs": [],
   "source": [
    "print(rfScores_f1)\n",
    "print(rfScores_auc)"
   ]
  },
  {
   "cell_type": "code",
   "execution_count": null,
   "id": "25b2c996",
   "metadata": {
    "colab": {
     "base_uri": "https://localhost:8080/",
     "height": 581
    },
    "id": "25b2c996",
    "outputId": "3d7a0b0e-d94e-4316-c39d-6eea1ccec2ad"
   },
   "outputs": [],
   "source": [
    "topScore = max(rfScores_auc)\n",
    "topModel = rfModels_auc[0]\n",
    "for i in range(len(rfScores_auc)):\n",
    "    if rfScores_auc[i] == topScore:\n",
    "        topModel = rfModels_auc[i]\n",
    "bestModel_RF = topModel.best_estimator_.named_steps[\"model_rf\"]\n",
    "\n",
    "importances = bestModel_RF.feature_importances_\n",
    "forest_importances = pd.Series(importances, index=xFeatures)\n",
    "\n",
    "fig, ax = plt.subplots()\n",
    "forest_importances.plot.bar(ax=ax)\n",
    "ax.set_title(\"Feature importances using MDI\")\n",
    "ax.set_ylabel(\"Mean decrease in impurity\")\n",
    "fig.tight_layout()"
   ]
  },
  {
   "cell_type": "code",
   "execution_count": null,
   "id": "ea8fe20f",
   "metadata": {
    "id": "ea8fe20f"
   },
   "outputs": [],
   "source": [
    "model_xgb = xgb.XGBClassifier(random_state=1,objective='binary:logistic',eval_metric='logloss',use_label_encoder=False)\n",
    "xgb_pipeline = Pipeline([\n",
    "    ('model_xgb', model_xgb)\n",
    "])\n",
    "\n",
    "xgb_param= {\n",
    "    'model_xgb__max_depth': [2, 3, 5,7,9],\n",
    "    'model_xgb__n_estimators': [10, 100, 500]}\n",
    "xgb_random_f1 = RandomizedSearchCV(xgb_pipeline, xgb_param, cv=cv_inner, scoring='f1')\n",
    "xgb_random_auc = RandomizedSearchCV(xgb_pipeline, xgb_param, cv=cv_inner, scoring='roc_auc')\n"
   ]
  },
  {
   "cell_type": "code",
   "execution_count": null,
   "id": "652287d2",
   "metadata": {
    "colab": {
     "base_uri": "https://localhost:8080/"
    },
    "id": "652287d2",
    "outputId": "5f98fa6a-0d29-41b9-a488-3e8ededb5687"
   },
   "outputs": [],
   "source": [
    "xgbModels_f1 = []\n",
    "xgbScores_f1 = []\n",
    "\n",
    "xgbModels_auc = []\n",
    "xgbScores_auc = []\n",
    "\n",
    "#For colab add this code\n",
    "for i in range(len(inBags)):\n",
    "  outBags[i][\"Age\"] = outBags[i][\"Age\"].astype(float)\n",
    "  outBags[i][\"RestingBP\"] = outBags[i][\"RestingBP\"].astype(float)\n",
    "  outBags[i][\"MaxHR\"] = outBags[i][\"MaxHR\"].astype(float)\n",
    "  outBags[i][\"Oldpeak\"] = outBags[i][\"Oldpeak\"].astype(float)\n",
    "\n",
    "for i in range(len(inBags)):\n",
    "    print(i)\n",
    "    model_f1 = xgb_random_f1.fit(inBags[i][xFeatures], np.asarray(inBags[i][yFeatures].squeeze().tolist()))\n",
    "    xgbModels_f1.append(model_f1)\n",
    "    print(\"Model 1\")\n",
    "    model_auc = xgb_random_auc.fit(inBags[i][xFeatures], np.asarray(inBags[i][yFeatures].squeeze().tolist()))\n",
    "    xgbModels_auc.append(model_auc)\n",
    "    print(\"Model 2\")\n",
    "    curScore_f1 = f1_score(outBags[i][yFeatures].squeeze().tolist(), model_f1.predict(outBags[i][xFeatures]))\n",
    "    xgbScores_f1.append(curScore_f1)\n",
    "    print(\"Score 1\")\n",
    "    curScore_auc = roc_auc_score(outBags[i][yFeatures].squeeze().tolist(), model_auc.predict(outBags[i][xFeatures]))\n",
    "    xgbScores_auc.append(curScore_auc)\n",
    "    print(\"Score 2\")"
   ]
  },
  {
   "cell_type": "code",
   "execution_count": null,
   "id": "afv5VZZ4fO_D",
   "metadata": {
    "colab": {
     "base_uri": "https://localhost:8080/"
    },
    "id": "afv5VZZ4fO_D",
    "outputId": "0fea4d96-8939-45e9-ab10-2989742774ba"
   },
   "outputs": [],
   "source": [
    "print(xgbScores_f1)\n",
    "print(xgbScores_auc)"
   ]
  },
  {
   "cell_type": "code",
   "execution_count": null,
   "id": "6be862a1",
   "metadata": {
    "colab": {
     "base_uri": "https://localhost:8080/",
     "height": 598
    },
    "id": "6be862a1",
    "outputId": "f116ec95-8f62-407f-d29d-d3d241ddc8cf"
   },
   "outputs": [],
   "source": [
    "from xgboost import plot_importance \n",
    "\n",
    "topScore = max(xgbScores_auc)\n",
    "topModel = xgbModels_auc[0]\n",
    "for i in range(len(xgbModels_auc)):\n",
    "    if xgbScores_auc[i] == topScore:\n",
    "        topModel = xgbModels_auc[i]\n",
    "\n",
    "bestModel_XGB = topModel.best_estimator_.named_steps[\"model_xgb\"]\n",
    "\n",
    "plot_importance(bestModel_XGB)"
   ]
  },
  {
   "cell_type": "code",
   "execution_count": null,
   "id": "801ff549",
   "metadata": {
    "id": "801ff549"
   },
   "outputs": [],
   "source": [
    "from sklearn import svm\n",
    "\n",
    "\n",
    "model_svm=svm.SVC()\n",
    "svm_pipeline = Pipeline([ \n",
    "    ('model_svm',model_svm)\n",
    "])\n",
    "svm_param = {\n",
    "               'model_svm__kernel': ['linear'],\n",
    "               'model_svm__gamma': ['scale', 'auto'],\n",
    "               'model_svm__C': [.1, .5, 1, 1.5, 2]}\n",
    "\n",
    "svm_random_f1 = RandomizedSearchCV(svm_pipeline, svm_param, cv=cv_inner, scoring='f1', random_state=42)\n",
    "svm_random_auc = RandomizedSearchCV(svm_pipeline, svm_param, cv=cv_inner, scoring='roc_auc', random_state=42)"
   ]
  },
  {
   "cell_type": "code",
   "execution_count": null,
   "id": "0bd3dfa7",
   "metadata": {
    "colab": {
     "base_uri": "https://localhost:8080/"
    },
    "id": "0bd3dfa7",
    "outputId": "d146e086-82b3-4e3a-f09c-74a9175e7781"
   },
   "outputs": [],
   "source": [
    "svmModels_f1 = []\n",
    "svmScores_f1 = []\n",
    "\n",
    "svmModels_auc = []\n",
    "svmScores_auc = []\n",
    "\n",
    "for i in range(len(inBags)):\n",
    "    print(i)\n",
    "    model_f1 = svm_random_f1.fit(inBags[i][xFeatures], np.asarray(inBags[i][yFeatures].squeeze().tolist()))\n",
    "    svmModels_f1.append(model_f1)\n",
    "\n",
    "    model_auc = svm_random_auc.fit(inBags[i][xFeatures], np.asarray(inBags[i][yFeatures].squeeze().tolist()))\n",
    "    svmModels_auc.append(model_auc)\n",
    "\n",
    "    curScore_f1 = f1_score(outBags[i][yFeatures].squeeze().tolist(), model.predict(outBags[i][xFeatures]))\n",
    "    svmScores_f1.append(curScore_f1)\n",
    "\n",
    "    curScore_auc = roc_auc_score(outBags[i][yFeatures].squeeze().tolist(), model.predict(outBags[i][xFeatures]))\n",
    "    svmScores_auc.append(curScore_auc)"
   ]
  },
  {
   "cell_type": "code",
   "execution_count": null,
   "id": "f08a117f",
   "metadata": {
    "colab": {
     "base_uri": "https://localhost:8080/",
     "height": 581
    },
    "id": "f08a117f",
    "outputId": "b2f803dc-cb7e-4daf-f1a0-0082812dd9a7"
   },
   "outputs": [],
   "source": [
    "topScore = max(svmScores_auc)\n",
    "topModel = svmModels_auc[0]\n",
    "for i in range(len(svmScores_auc)):\n",
    "    if svmScores_auc[i] == topScore:\n",
    "        topModel = svmModels_auc[i]\n",
    "        \n",
    "bestModel_SVM = topModel.best_estimator_.named_steps[\"model_svm\"]\n",
    "\n",
    "importances = bestModel_SVM.coef_\n",
    "#permutation importance\n",
    "\n",
    "forest_importances = pd.Series(importances[0], index=xFeatures)\n",
    "fig, ax = plt.subplots()\n",
    "forest_importances.plot.bar(ax=ax)\n",
    "fig.tight_layout()"
   ]
  },
  {
   "cell_type": "code",
   "execution_count": null,
   "id": "b54f4150",
   "metadata": {
    "colab": {
     "base_uri": "https://localhost:8080/"
    },
    "id": "b54f4150",
    "outputId": "43a29e94-c16f-4260-f129-b301b5fd7d6d"
   },
   "outputs": [],
   "source": [
    "#Friedman\n",
    "stats.friedmanchisquare(svmScores_auc,xgbScores_auc,rfScores_auc) #Gets the Friedman statistic"
   ]
  },
  {
   "cell_type": "code",
   "execution_count": null,
   "id": "11f208c0",
   "metadata": {
    "id": "11f208c0"
   },
   "outputs": [],
   "source": [
    "#Drop index for test dfs\n",
    "X_test = X_test.reset_index(drop=True)\n",
    "y_test=y_test.reset_index(drop=True)"
   ]
  },
  {
   "cell_type": "code",
   "execution_count": null,
   "id": "366fcb3a",
   "metadata": {
    "id": "366fcb3a"
   },
   "outputs": [],
   "source": [
    "scaler = StandardScaler() #Creates a SKlearn standard Scaler object\n",
    "scaler.fit(X_test[numFeatures])\n",
    "X_test[numFeatures]=scaler.transform(X_test[numFeatures])\n",
    "X_test = pd.get_dummies(X_test, columns=catFeatures)  "
   ]
  },
  {
   "cell_type": "code",
   "execution_count": null,
   "id": "932087fd",
   "metadata": {
    "colab": {
     "base_uri": "https://localhost:8080/"
    },
    "id": "932087fd",
    "outputId": "8abb1c0a-1854-436b-9972-fdfe82069c8b"
   },
   "outputs": [],
   "source": [
    "yhat=bestModel_RF.predict(X_test)\n",
    "aucscore=roc_auc_score(yhat,y_test)\n",
    "print(aucscore)"
   ]
  },
  {
   "cell_type": "code",
   "execution_count": null,
   "id": "f52c3d6f",
   "metadata": {
    "colab": {
     "base_uri": "https://localhost:8080/",
     "height": 844
    },
    "id": "f52c3d6f",
    "outputId": "1ac304c8-2a66-4b1e-f282-b64d03cb0db4"
   },
   "outputs": [],
   "source": [
    "!pip install shap\n",
    "import shap\n",
    "\n",
    "shap.initjs()\n",
    "explainer = shap.KernelExplainer(bestModel_RF.predict_proba,inBags[0][xFeatures])\n",
    "shap_values = explainer.shap_values(X_test.iloc[10,:])\n",
    "#SHAP values for class 0 outcomes\n",
    "shap.force_plot(explainer.expected_value[0], shap_values[0], X_test.iloc[10,:], feature_names = X_test.columns)"
   ]
  },
  {
   "cell_type": "code",
   "execution_count": null,
   "id": "W5JWf4fJ4fO_",
   "metadata": {
    "id": "W5JWf4fJ4fO_"
   },
   "outputs": [],
   "source": [
    "#SHAP values for class 1 outcomes\n",
    "shap.force_plot(explainer.expected_value[1], shap_values[1], X_test.iloc[10,:], feature_names = X_test.columns)"
   ]
  },
  {
   "cell_type": "markdown",
   "id": "88a28d59",
   "metadata": {},
   "source": [
    "## Analysis with Cholesterol"
   ]
  },
  {
   "cell_type": "code",
   "execution_count": 35,
   "id": "5132ddbe",
   "metadata": {},
   "outputs": [],
   "source": [
    "df = dfC\n",
    "allFeatures.append(\"Cholesterol\")"
   ]
  },
  {
   "cell_type": "code",
   "execution_count": 36,
   "id": "4416c33b",
   "metadata": {},
   "outputs": [
    {
     "data": {
      "text/html": [
       "<div>\n",
       "<style scoped>\n",
       "    .dataframe tbody tr th:only-of-type {\n",
       "        vertical-align: middle;\n",
       "    }\n",
       "\n",
       "    .dataframe tbody tr th {\n",
       "        vertical-align: top;\n",
       "    }\n",
       "\n",
       "    .dataframe thead th {\n",
       "        text-align: right;\n",
       "    }\n",
       "</style>\n",
       "<table border=\"1\" class=\"dataframe\">\n",
       "  <thead>\n",
       "    <tr style=\"text-align: right;\">\n",
       "      <th></th>\n",
       "      <th>Age</th>\n",
       "      <th>Sex</th>\n",
       "      <th>ChestPainType</th>\n",
       "      <th>RestingBP</th>\n",
       "      <th>FastingBS</th>\n",
       "      <th>RestingECG</th>\n",
       "      <th>MaxHR</th>\n",
       "      <th>ExerciseAngina</th>\n",
       "      <th>Oldpeak</th>\n",
       "      <th>ST_Slope</th>\n",
       "      <th>Cholesterol</th>\n",
       "    </tr>\n",
       "  </thead>\n",
       "  <tbody>\n",
       "    <tr>\n",
       "      <th>0</th>\n",
       "      <td>40</td>\n",
       "      <td>M</td>\n",
       "      <td>ATA</td>\n",
       "      <td>140</td>\n",
       "      <td>0</td>\n",
       "      <td>Normal</td>\n",
       "      <td>172</td>\n",
       "      <td>N</td>\n",
       "      <td>0.0</td>\n",
       "      <td>Up</td>\n",
       "      <td>289</td>\n",
       "    </tr>\n",
       "    <tr>\n",
       "      <th>1</th>\n",
       "      <td>49</td>\n",
       "      <td>F</td>\n",
       "      <td>NAP</td>\n",
       "      <td>160</td>\n",
       "      <td>0</td>\n",
       "      <td>Normal</td>\n",
       "      <td>156</td>\n",
       "      <td>N</td>\n",
       "      <td>1.0</td>\n",
       "      <td>Flat</td>\n",
       "      <td>180</td>\n",
       "    </tr>\n",
       "    <tr>\n",
       "      <th>2</th>\n",
       "      <td>37</td>\n",
       "      <td>M</td>\n",
       "      <td>ATA</td>\n",
       "      <td>130</td>\n",
       "      <td>0</td>\n",
       "      <td>ST</td>\n",
       "      <td>98</td>\n",
       "      <td>N</td>\n",
       "      <td>0.0</td>\n",
       "      <td>Up</td>\n",
       "      <td>283</td>\n",
       "    </tr>\n",
       "    <tr>\n",
       "      <th>3</th>\n",
       "      <td>48</td>\n",
       "      <td>F</td>\n",
       "      <td>ASY</td>\n",
       "      <td>138</td>\n",
       "      <td>0</td>\n",
       "      <td>Normal</td>\n",
       "      <td>108</td>\n",
       "      <td>Y</td>\n",
       "      <td>1.5</td>\n",
       "      <td>Flat</td>\n",
       "      <td>214</td>\n",
       "    </tr>\n",
       "    <tr>\n",
       "      <th>4</th>\n",
       "      <td>54</td>\n",
       "      <td>M</td>\n",
       "      <td>NAP</td>\n",
       "      <td>150</td>\n",
       "      <td>0</td>\n",
       "      <td>Normal</td>\n",
       "      <td>122</td>\n",
       "      <td>N</td>\n",
       "      <td>0.0</td>\n",
       "      <td>Up</td>\n",
       "      <td>195</td>\n",
       "    </tr>\n",
       "    <tr>\n",
       "      <th>...</th>\n",
       "      <td>...</td>\n",
       "      <td>...</td>\n",
       "      <td>...</td>\n",
       "      <td>...</td>\n",
       "      <td>...</td>\n",
       "      <td>...</td>\n",
       "      <td>...</td>\n",
       "      <td>...</td>\n",
       "      <td>...</td>\n",
       "      <td>...</td>\n",
       "      <td>...</td>\n",
       "    </tr>\n",
       "    <tr>\n",
       "      <th>912</th>\n",
       "      <td>45</td>\n",
       "      <td>M</td>\n",
       "      <td>TA</td>\n",
       "      <td>110</td>\n",
       "      <td>0</td>\n",
       "      <td>Normal</td>\n",
       "      <td>132</td>\n",
       "      <td>N</td>\n",
       "      <td>1.2</td>\n",
       "      <td>Flat</td>\n",
       "      <td>264</td>\n",
       "    </tr>\n",
       "    <tr>\n",
       "      <th>913</th>\n",
       "      <td>68</td>\n",
       "      <td>M</td>\n",
       "      <td>ASY</td>\n",
       "      <td>144</td>\n",
       "      <td>1</td>\n",
       "      <td>Normal</td>\n",
       "      <td>141</td>\n",
       "      <td>N</td>\n",
       "      <td>3.4</td>\n",
       "      <td>Flat</td>\n",
       "      <td>193</td>\n",
       "    </tr>\n",
       "    <tr>\n",
       "      <th>914</th>\n",
       "      <td>57</td>\n",
       "      <td>M</td>\n",
       "      <td>ASY</td>\n",
       "      <td>130</td>\n",
       "      <td>0</td>\n",
       "      <td>Normal</td>\n",
       "      <td>115</td>\n",
       "      <td>Y</td>\n",
       "      <td>1.2</td>\n",
       "      <td>Flat</td>\n",
       "      <td>131</td>\n",
       "    </tr>\n",
       "    <tr>\n",
       "      <th>915</th>\n",
       "      <td>57</td>\n",
       "      <td>F</td>\n",
       "      <td>ATA</td>\n",
       "      <td>130</td>\n",
       "      <td>0</td>\n",
       "      <td>LVH</td>\n",
       "      <td>174</td>\n",
       "      <td>N</td>\n",
       "      <td>0.0</td>\n",
       "      <td>Flat</td>\n",
       "      <td>236</td>\n",
       "    </tr>\n",
       "    <tr>\n",
       "      <th>916</th>\n",
       "      <td>38</td>\n",
       "      <td>M</td>\n",
       "      <td>NAP</td>\n",
       "      <td>138</td>\n",
       "      <td>0</td>\n",
       "      <td>Normal</td>\n",
       "      <td>173</td>\n",
       "      <td>N</td>\n",
       "      <td>0.0</td>\n",
       "      <td>Up</td>\n",
       "      <td>175</td>\n",
       "    </tr>\n",
       "  </tbody>\n",
       "</table>\n",
       "<p>917 rows × 11 columns</p>\n",
       "</div>"
      ],
      "text/plain": [
       "     Age Sex ChestPainType  RestingBP  FastingBS RestingECG  MaxHR  \\\n",
       "0     40   M           ATA        140          0     Normal    172   \n",
       "1     49   F           NAP        160          0     Normal    156   \n",
       "2     37   M           ATA        130          0         ST     98   \n",
       "3     48   F           ASY        138          0     Normal    108   \n",
       "4     54   M           NAP        150          0     Normal    122   \n",
       "..   ...  ..           ...        ...        ...        ...    ...   \n",
       "912   45   M            TA        110          0     Normal    132   \n",
       "913   68   M           ASY        144          1     Normal    141   \n",
       "914   57   M           ASY        130          0     Normal    115   \n",
       "915   57   F           ATA        130          0        LVH    174   \n",
       "916   38   M           NAP        138          0     Normal    173   \n",
       "\n",
       "    ExerciseAngina  Oldpeak ST_Slope  Cholesterol  \n",
       "0                N      0.0       Up          289  \n",
       "1                N      1.0     Flat          180  \n",
       "2                N      0.0       Up          283  \n",
       "3                Y      1.5     Flat          214  \n",
       "4                N      0.0       Up          195  \n",
       "..             ...      ...      ...          ...  \n",
       "912              N      1.2     Flat          264  \n",
       "913              N      3.4     Flat          193  \n",
       "914              Y      1.2     Flat          131  \n",
       "915              N      0.0     Flat          236  \n",
       "916              N      0.0       Up          175  \n",
       "\n",
       "[917 rows x 11 columns]"
      ]
     },
     "execution_count": 36,
     "metadata": {},
     "output_type": "execute_result"
    }
   ],
   "source": [
    "df[allFeatures]"
   ]
  },
  {
   "cell_type": "code",
   "execution_count": null,
   "id": "75819a1c",
   "metadata": {
    "id": "7bf6d0b8"
   },
   "outputs": [],
   "source": [
    "X_train, X_test, y_train, y_test = train_test_split(df[allFeatures], df[\"HeartDisease\"], test_size = 0.2, random_state=42, stratify=df[\"HeartDisease\"])\n"
   ]
  },
  {
   "cell_type": "code",
   "execution_count": null,
   "id": "1989e3ff",
   "metadata": {
    "colab": {
     "base_uri": "https://localhost:8080/",
     "height": 424
    },
    "id": "82ff7ea2",
    "outputId": "57e13c81-0a40-4c45-a0cc-b2b1e1095e18"
   },
   "outputs": [],
   "source": [
    "train = pd.concat([X_train, y_train], axis=1)\n",
    "train = train.reset_index(drop=True)\n",
    "train"
   ]
  },
  {
   "cell_type": "code",
   "execution_count": null,
   "id": "3cbb1356",
   "metadata": {
    "id": "91eea9b7"
   },
   "outputs": [],
   "source": [
    "np.random.seed(1) #Set a random seed for reproducibility\n",
    "inBags = [] \n",
    "outBags = []\n",
    "\n",
    "for i in range(2): #Loop through 50 times to create 50 InBags/OutBags\n",
    "    \n",
    "    curInBag = sklearn.utils.resample(train, replace=True) #Creates a boot strap inBag the length of boston with replacement\n",
    "    \n",
    "    outBagRows = [] #to hold all of the rows not represented in the inBag\n",
    "    for i in range(len(train)): \n",
    "        if i not in np.unique(list(curInBag.index)):  #Check to see if the row is not represented in the current in bag\n",
    "            \n",
    "            outBagRows.append(train.loc[i].to_frame().T) # When I select a row not in the in bag, it is a series\n",
    "                                                           # I Use the .to_frame to convert the series to a DataFrame\n",
    "                                                           # The data Frame is oriented the wrong way so the .T transposes it\n",
    "    \n",
    "    curOutBag = pd.concat(outBagRows) #This concatenates all of the out bag rows into one DF\n",
    "\n",
    "    #This if statment checks to see if every row of boston is represnted between the cur inbag and the cur outbag\n",
    "    if len(np.unique(list(curInBag.index))) + len(np.unique(list(curOutBag.index))) != len(train):\n",
    "        print(\"ERROR! ALl of the unique values should be represented\")\n",
    "\n",
    "    #Add the inbag/outBag to their respective lists\n",
    "    inBags.append(curInBag)\n",
    "    outBags.append(curOutBag)"
   ]
  },
  {
   "cell_type": "code",
   "execution_count": null,
   "id": "ad3feb87",
   "metadata": {
    "id": "36ef28ea"
   },
   "outputs": [],
   "source": [
    "scaler = StandardScaler() #Creates a SKlearn standard Scaler object\n",
    "\n",
    "for i in range(len(inBags)): #Loop through each of the inBags\n",
    "    \n",
    "    #STANDARD SCALER\n",
    "    scaler.fit(inBags[i][numFeatures]) #Transforms inBags\n",
    "    inBags[i][numFeatures]=scaler.transform(inBags[i][numFeatures])\n",
    "\n",
    "    scaler.fit(outBags[i][numFeatures]) #Transforms outBags\n",
    "    outBags[i][numFeatures]=scaler.transform(outBags[i][numFeatures])\n",
    "    \n",
    "    #ENCODE CATEGORICAL VARIABLES\n",
    "   \n",
    "    inBags[i] = pd.get_dummies(inBags[i], columns=catFeatures)  #Transform inBags\n",
    "    outBags[i] = pd.get_dummies(outBags[i], columns=catFeatures)  #Transform outBags\n",
    "    \n"
   ]
  },
  {
   "cell_type": "code",
   "execution_count": null,
   "id": "d9fd3b44",
   "metadata": {
    "id": "d9fd3b44"
   },
   "outputs": [],
   "source": [
    "xFeatures = inBags[0].columns.tolist()\n",
    "xFeatures.remove('HeartDisease')\n",
    "yFeatures = ['HeartDisease']"
   ]
  },
  {
   "cell_type": "code",
   "execution_count": null,
   "id": "fe3db1b6",
   "metadata": {
    "id": "fe3db1b6"
   },
   "outputs": [],
   "source": [
    "cv_inner = StratifiedKFold(n_splits=5, shuffle=True, random_state=2)\n",
    "\n",
    "model_rf=RandomForestClassifier(random_state=1)\n",
    "rf_pipeline = Pipeline([ \n",
    "    ('model_rf',model_rf)\n",
    "])\n",
    "rf_param = {\n",
    "               'model_rf__bootstrap': [True, False],\n",
    "               'model_rf__max_depth': [2, 3, 5, 7, 9],\n",
    "               'model_rf__max_features': [10],\n",
    "               'model_rf__n_estimators': [10, 100, 500]} \n",
    "\n",
    "rf_random_f1 = RandomizedSearchCV(rf_pipeline, rf_param, cv=cv_inner, scoring='f1')\n",
    "rf_random_auc = RandomizedSearchCV(rf_pipeline, rf_param, cv=cv_inner, scoring='roc_auc')"
   ]
  },
  {
   "cell_type": "code",
   "execution_count": null,
   "id": "a801483a",
   "metadata": {
    "colab": {
     "base_uri": "https://localhost:8080/"
    },
    "id": "a801483a",
    "outputId": "70c4a5ad-2980-4073-bda8-5fb80afb2101"
   },
   "outputs": [],
   "source": [
    "rfModels_f1 = []\n",
    "rfModels_auc = []\n",
    "\n",
    "rfScores_f1 = []\n",
    "rfScores_auc = []\n",
    "\n",
    "for i in range(len(inBags)):\n",
    "    print(i)\n",
    "    model_f1 = rf_random_f1.fit(inBags[i][xFeatures], np.asarray(inBags[i][yFeatures].squeeze().tolist()))\n",
    "    rfModels_f1.append(model_f1)\n",
    "    \n",
    "    model_auc = rf_random_auc.fit(inBags[i][xFeatures], np.asarray(inBags[i][yFeatures].squeeze().tolist()))\n",
    "    rfModels_auc.append(model_auc)\n",
    "    \n",
    "    curScore_f1 = f1_score(outBags[i][yFeatures].squeeze().tolist(), model_f1.predict(outBags[i][xFeatures]))\n",
    "    rfScores_f1.append(curScore_f1)\n",
    "    \n",
    "    curScore_auc = roc_auc_score(outBags[i][yFeatures].squeeze().tolist(), model_auc.predict(outBags[i][xFeatures]))\n",
    "    rfScores_auc.append(curScore_auc)"
   ]
  },
  {
   "cell_type": "code",
   "execution_count": null,
   "id": "8c39ff70",
   "metadata": {
    "colab": {
     "base_uri": "https://localhost:8080/"
    },
    "id": "8c39ff70",
    "outputId": "7ac6938d-5478-499b-d95c-860409a395ec"
   },
   "outputs": [],
   "source": [
    "print(rfScores_f1)\n",
    "print(rfScores_auc)"
   ]
  },
  {
   "cell_type": "code",
   "execution_count": null,
   "id": "25b2c996",
   "metadata": {
    "colab": {
     "base_uri": "https://localhost:8080/",
     "height": 581
    },
    "id": "25b2c996",
    "outputId": "3d7a0b0e-d94e-4316-c39d-6eea1ccec2ad"
   },
   "outputs": [],
   "source": [
    "topScore = max(rfScores_auc)\n",
    "topModel = rfModels_auc[0]\n",
    "for i in range(len(rfScores_auc)):\n",
    "    if rfScores_auc[i] == topScore:\n",
    "        topModel = rfModels_auc[i]\n",
    "bestModel_RF = topModel.best_estimator_.named_steps[\"model_rf\"]\n",
    "\n",
    "importances = bestModel_RF.feature_importances_\n",
    "forest_importances = pd.Series(importances, index=xFeatures)\n",
    "\n",
    "fig, ax = plt.subplots()\n",
    "forest_importances.plot.bar(ax=ax)\n",
    "ax.set_title(\"Feature importances using MDI\")\n",
    "ax.set_ylabel(\"Mean decrease in impurity\")\n",
    "fig.tight_layout()"
   ]
  },
  {
   "cell_type": "code",
   "execution_count": null,
   "id": "ea8fe20f",
   "metadata": {
    "id": "ea8fe20f"
   },
   "outputs": [],
   "source": [
    "model_xgb = xgb.XGBClassifier(random_state=1,objective='binary:logistic',eval_metric='logloss',use_label_encoder=False)\n",
    "xgb_pipeline = Pipeline([\n",
    "    ('model_xgb', model_xgb)\n",
    "])\n",
    "\n",
    "xgb_param= {\n",
    "    'model_xgb__max_depth': [2, 3, 5,7,9],\n",
    "    'model_xgb__n_estimators': [10, 100, 500]}\n",
    "xgb_random_f1 = RandomizedSearchCV(xgb_pipeline, xgb_param, cv=cv_inner, scoring='f1')\n",
    "xgb_random_auc = RandomizedSearchCV(xgb_pipeline, xgb_param, cv=cv_inner, scoring='roc_auc')\n"
   ]
  },
  {
   "cell_type": "code",
   "execution_count": null,
   "id": "652287d2",
   "metadata": {
    "colab": {
     "base_uri": "https://localhost:8080/"
    },
    "id": "652287d2",
    "outputId": "5f98fa6a-0d29-41b9-a488-3e8ededb5687"
   },
   "outputs": [],
   "source": [
    "xgbModels_f1 = []\n",
    "xgbScores_f1 = []\n",
    "\n",
    "xgbModels_auc = []\n",
    "xgbScores_auc = []\n",
    "\n",
    "#For colab add this code\n",
    "for i in range(len(inBags)):\n",
    "  outBags[i][\"Age\"] = outBags[i][\"Age\"].astype(float)\n",
    "  outBags[i][\"RestingBP\"] = outBags[i][\"RestingBP\"].astype(float)\n",
    "  outBags[i][\"MaxHR\"] = outBags[i][\"MaxHR\"].astype(float)\n",
    "  outBags[i][\"Oldpeak\"] = outBags[i][\"Oldpeak\"].astype(float)\n",
    "\n",
    "for i in range(len(inBags)):\n",
    "    print(i)\n",
    "    model_f1 = xgb_random_f1.fit(inBags[i][xFeatures], np.asarray(inBags[i][yFeatures].squeeze().tolist()))\n",
    "    xgbModels_f1.append(model_f1)\n",
    "    print(\"Model 1\")\n",
    "    model_auc = xgb_random_auc.fit(inBags[i][xFeatures], np.asarray(inBags[i][yFeatures].squeeze().tolist()))\n",
    "    xgbModels_auc.append(model_auc)\n",
    "    print(\"Model 2\")\n",
    "    curScore_f1 = f1_score(outBags[i][yFeatures].squeeze().tolist(), model_f1.predict(outBags[i][xFeatures]))\n",
    "    xgbScores_f1.append(curScore_f1)\n",
    "    print(\"Score 1\")\n",
    "    curScore_auc = roc_auc_score(outBags[i][yFeatures].squeeze().tolist(), model_auc.predict(outBags[i][xFeatures]))\n",
    "    xgbScores_auc.append(curScore_auc)\n",
    "    print(\"Score 2\")"
   ]
  },
  {
   "cell_type": "code",
   "execution_count": null,
   "id": "afv5VZZ4fO_D",
   "metadata": {
    "colab": {
     "base_uri": "https://localhost:8080/"
    },
    "id": "afv5VZZ4fO_D",
    "outputId": "0fea4d96-8939-45e9-ab10-2989742774ba"
   },
   "outputs": [],
   "source": [
    "print(xgbScores_f1)\n",
    "print(xgbScores_auc)"
   ]
  },
  {
   "cell_type": "code",
   "execution_count": null,
   "id": "6be862a1",
   "metadata": {
    "colab": {
     "base_uri": "https://localhost:8080/",
     "height": 598
    },
    "id": "6be862a1",
    "outputId": "f116ec95-8f62-407f-d29d-d3d241ddc8cf"
   },
   "outputs": [],
   "source": [
    "from xgboost import plot_importance \n",
    "\n",
    "topScore = max(xgbScores_auc)\n",
    "topModel = xgbModels_auc[0]\n",
    "for i in range(len(xgbModels_auc)):\n",
    "    if xgbScores_auc[i] == topScore:\n",
    "        topModel = xgbModels_auc[i]\n",
    "\n",
    "bestModel_XGB = topModel.best_estimator_.named_steps[\"model_xgb\"]\n",
    "\n",
    "plot_importance(bestModel_XGB)"
   ]
  },
  {
   "cell_type": "code",
   "execution_count": null,
   "id": "801ff549",
   "metadata": {
    "id": "801ff549"
   },
   "outputs": [],
   "source": [
    "from sklearn import svm\n",
    "\n",
    "\n",
    "model_svm=svm.SVC()\n",
    "svm_pipeline = Pipeline([ \n",
    "    ('model_svm',model_svm)\n",
    "])\n",
    "svm_param = {\n",
    "               'model_svm__kernel': ['linear'],\n",
    "               'model_svm__gamma': ['scale', 'auto'],\n",
    "               'model_svm__C': [.1, .5, 1, 1.5, 2]}\n",
    "\n",
    "svm_random_f1 = RandomizedSearchCV(svm_pipeline, svm_param, cv=cv_inner, scoring='f1', random_state=42)\n",
    "svm_random_auc = RandomizedSearchCV(svm_pipeline, svm_param, cv=cv_inner, scoring='roc_auc', random_state=42)"
   ]
  },
  {
   "cell_type": "code",
   "execution_count": null,
   "id": "0bd3dfa7",
   "metadata": {
    "colab": {
     "base_uri": "https://localhost:8080/"
    },
    "id": "0bd3dfa7",
    "outputId": "d146e086-82b3-4e3a-f09c-74a9175e7781"
   },
   "outputs": [],
   "source": [
    "svmModels_f1 = []\n",
    "svmScores_f1 = []\n",
    "\n",
    "svmModels_auc = []\n",
    "svmScores_auc = []\n",
    "\n",
    "for i in range(len(inBags)):\n",
    "    print(i)\n",
    "    model_f1 = svm_random_f1.fit(inBags[i][xFeatures], np.asarray(inBags[i][yFeatures].squeeze().tolist()))\n",
    "    svmModels_f1.append(model_f1)\n",
    "\n",
    "    model_auc = svm_random_auc.fit(inBags[i][xFeatures], np.asarray(inBags[i][yFeatures].squeeze().tolist()))\n",
    "    svmModels_auc.append(model_auc)\n",
    "\n",
    "    curScore_f1 = f1_score(outBags[i][yFeatures].squeeze().tolist(), model.predict(outBags[i][xFeatures]))\n",
    "    svmScores_f1.append(curScore_f1)\n",
    "\n",
    "    curScore_auc = roc_auc_score(outBags[i][yFeatures].squeeze().tolist(), model.predict(outBags[i][xFeatures]))\n",
    "    svmScores_auc.append(curScore_auc)"
   ]
  },
  {
   "cell_type": "code",
   "execution_count": null,
   "id": "f08a117f",
   "metadata": {
    "colab": {
     "base_uri": "https://localhost:8080/",
     "height": 581
    },
    "id": "f08a117f",
    "outputId": "b2f803dc-cb7e-4daf-f1a0-0082812dd9a7"
   },
   "outputs": [],
   "source": [
    "topScore = max(svmScores_auc)\n",
    "topModel = svmModels_auc[0]\n",
    "for i in range(len(svmScores_auc)):\n",
    "    if svmScores_auc[i] == topScore:\n",
    "        topModel = svmModels_auc[i]\n",
    "        \n",
    "bestModel_SVM = topModel.best_estimator_.named_steps[\"model_svm\"]\n",
    "\n",
    "importances = bestModel_SVM.coef_\n",
    "#permutation importance\n",
    "\n",
    "forest_importances = pd.Series(importances[0], index=xFeatures)\n",
    "fig, ax = plt.subplots()\n",
    "forest_importances.plot.bar(ax=ax)\n",
    "fig.tight_layout()"
   ]
  },
  {
   "cell_type": "code",
   "execution_count": null,
   "id": "b54f4150",
   "metadata": {
    "colab": {
     "base_uri": "https://localhost:8080/"
    },
    "id": "b54f4150",
    "outputId": "43a29e94-c16f-4260-f129-b301b5fd7d6d"
   },
   "outputs": [],
   "source": [
    "#Friedman\n",
    "stats.friedmanchisquare(svmScores_auc,xgbScores_auc,rfScores_auc) #Gets the Friedman statistic"
   ]
  },
  {
   "cell_type": "code",
   "execution_count": null,
   "id": "11f208c0",
   "metadata": {
    "id": "11f208c0"
   },
   "outputs": [],
   "source": [
    "#Drop index for test dfs\n",
    "X_test = X_test.reset_index(drop=True)\n",
    "y_test=y_test.reset_index(drop=True)"
   ]
  },
  {
   "cell_type": "code",
   "execution_count": null,
   "id": "366fcb3a",
   "metadata": {
    "id": "366fcb3a"
   },
   "outputs": [],
   "source": [
    "scaler = StandardScaler() #Creates a SKlearn standard Scaler object\n",
    "scaler.fit(X_test[numFeatures])\n",
    "X_test[numFeatures]=scaler.transform(X_test[numFeatures])\n",
    "X_test = pd.get_dummies(X_test, columns=catFeatures)  "
   ]
  },
  {
   "cell_type": "code",
   "execution_count": null,
   "id": "932087fd",
   "metadata": {
    "colab": {
     "base_uri": "https://localhost:8080/"
    },
    "id": "932087fd",
    "outputId": "8abb1c0a-1854-436b-9972-fdfe82069c8b"
   },
   "outputs": [],
   "source": [
    "yhat=bestModel_RF.predict(X_test)\n",
    "aucscore=roc_auc_score(yhat,y_test)\n",
    "print(aucscore)"
   ]
  },
  {
   "cell_type": "code",
   "execution_count": null,
   "id": "f52c3d6f",
   "metadata": {
    "colab": {
     "base_uri": "https://localhost:8080/",
     "height": 844
    },
    "id": "f52c3d6f",
    "outputId": "1ac304c8-2a66-4b1e-f282-b64d03cb0db4"
   },
   "outputs": [],
   "source": [
    "!pip install shap\n",
    "import shap\n",
    "\n",
    "shap.initjs()\n",
    "explainer = shap.KernelExplainer(bestModel_RF.predict_proba,inBags[0][xFeatures])\n",
    "shap_values = explainer.shap_values(X_test.iloc[10,:])\n",
    "#SHAP values for class 0 outcomes\n",
    "shap.force_plot(explainer.expected_value[0], shap_values[0], X_test.iloc[10,:], feature_names = X_test.columns)"
   ]
  },
  {
   "cell_type": "code",
   "execution_count": null,
   "id": "W5JWf4fJ4fO_",
   "metadata": {
    "id": "W5JWf4fJ4fO_"
   },
   "outputs": [],
   "source": [
    "#SHAP values for class 1 outcomes\n",
    "shap.force_plot(explainer.expected_value[1], shap_values[1], X_test.iloc[10,:], feature_names = X_test.columns)"
   ]
  },
  {
   "cell_type": "code",
   "execution_count": null,
   "id": "3e5e6d94",
   "metadata": {},
   "outputs": [],
   "source": [
    "X_train, X_test, y_train, y_test = train_test_split(df[allFeatures], df[\"HeartDisease\"], test_size = 0.2, random_state=42, stratify=df[\"HeartDisease\"])\n",
    "\n",
    "\n",
    "train = pd.concat([X_train, y_train], axis=1)\n",
    "train = train.reset_index(drop=True)\n",
    "train\n",
    "\n",
    "np.random.seed(1) #Set a random seed for reproducibility\n",
    "inBags = [] \n",
    "outBags = []\n",
    "\n",
    "for i in range(2): #Loop through 50 times to create 50 InBags/OutBags\n",
    "    \n",
    "    curInBag = sklearn.utils.resample(train, replace=True) #Creates a boot strap inBag the length of boston with replacement\n",
    "    \n",
    "    outBagRows = [] #to hold all of the rows not represented in the inBag\n",
    "    for i in range(len(train)): \n",
    "        if i not in np.unique(list(curInBag.index)):  #Check to see if the row is not represented in the current in bag\n",
    "            \n",
    "            outBagRows.append(train.loc[i].to_frame().T) # When I select a row not in the in bag, it is a series\n",
    "                                                           # I Use the .to_frame to convert the series to a DataFrame\n",
    "                                                           # The data Frame is oriented the wrong way so the .T transposes it\n",
    "    \n",
    "    curOutBag = pd.concat(outBagRows) #This concatenates all of the out bag rows into one DF\n",
    "\n",
    "    #This if statment checks to see if every row of boston is represnted between the cur inbag and the cur outbag\n",
    "    if len(np.unique(list(curInBag.index))) + len(np.unique(list(curOutBag.index))) != len(train):\n",
    "        print(\"ERROR! ALl of the unique values should be represented\")\n",
    "\n",
    "    #Add the inbag/outBag to their respective lists\n",
    "    inBags.append(curInBag)\n",
    "    outBags.append(curOutBag)\n",
    "\n",
    "scaler = StandardScaler() #Creates a SKlearn standard Scaler object\n",
    "\n",
    "for i in range(len(inBags)): #Loop through each of the inBags\n",
    "    \n",
    "    #STANDARD SCALER\n",
    "    scaler.fit(inBags[i][numFeatures]) #Transforms inBags\n",
    "    inBags[i][numFeatures]=scaler.transform(inBags[i][numFeatures])\n",
    "\n",
    "    scaler.fit(outBags[i][numFeatures]) #Transforms outBags\n",
    "    outBags[i][numFeatures]=scaler.transform(outBags[i][numFeatures])\n",
    "    \n",
    "    #ENCODE CATEGORICAL VARIABLES\n",
    "   \n",
    "    inBags[i] = pd.get_dummies(inBags[i], columns=catFeatures)  #Transform inBags\n",
    "    outBags[i] = pd.get_dummies(outBags[i], columns=catFeatures)  #Transform outBags\n",
    "    \n",
    "\n",
    "\n",
    "xFeatures = inBags[0].columns.tolist()\n",
    "xFeatures.remove('HeartDisease')\n",
    "yFeatures = ['HeartDisease']\n",
    "\n",
    "cv_inner = StratifiedKFold(n_splits=5, shuffle=True, random_state=2)\n",
    "\n",
    "model_rf=RandomForestClassifier(random_state=1)\n",
    "rf_pipeline = Pipeline([ \n",
    "    ('model_rf',model_rf)\n",
    "])\n",
    "rf_param = {\n",
    "               'model_rf__bootstrap': [True, False],\n",
    "               'model_rf__max_depth': [2, 3, 5, 7, 9],\n",
    "               'model_rf__max_features': [10],\n",
    "               'model_rf__n_estimators': [10, 100, 500]} \n",
    "\n",
    "rf_random_f1 = RandomizedSearchCV(rf_pipeline, rf_param, cv=cv_inner, scoring='f1')\n",
    "rf_random_auc = RandomizedSearchCV(rf_pipeline, rf_param, cv=cv_inner, scoring='roc_auc')\n",
    "\n",
    "rfModels_f1 = []\n",
    "rfModels_auc = []\n",
    "\n",
    "rfScores_f1 = []\n",
    "rfScores_auc = []\n",
    "\n",
    "for i in range(len(inBags)):\n",
    "    print(i)\n",
    "    model_f1 = rf_random_f1.fit(inBags[i][xFeatures], np.asarray(inBags[i][yFeatures].squeeze().tolist()))\n",
    "    rfModels_f1.append(model_f1)\n",
    "    \n",
    "    model_auc = rf_random_auc.fit(inBags[i][xFeatures], np.asarray(inBags[i][yFeatures].squeeze().tolist()))\n",
    "    rfModels_auc.append(model_auc)\n",
    "    \n",
    "    curScore_f1 = f1_score(outBags[i][yFeatures].squeeze().tolist(), model_f1.predict(outBags[i][xFeatures]))\n",
    "    rfScores_f1.append(curScore_f1)\n",
    "    \n",
    "    curScore_auc = roc_auc_score(outBags[i][yFeatures].squeeze().tolist(), model_auc.predict(outBags[i][xFeatures]))\n",
    "    rfScores_auc.append(curScore_auc)\n",
    "\n",
    "print(rfScores_f1)\n",
    "print(rfScores_auc)\n",
    "\n",
    "topScore = max(rfScores_auc)\n",
    "topModel = rfModels_auc[0]\n",
    "for i in range(len(rfScores_auc)):\n",
    "    if rfScores_auc[i] == topScore:\n",
    "        topModel = rfModels_auc[i]\n",
    "bestModel_RF = topModel.best_estimator_.named_steps[\"model_rf\"]\n",
    "\n",
    "importances = bestModel_RF.feature_importances_\n",
    "forest_importances = pd.Series(importances, index=xFeatures)\n",
    "\n",
    "fig, ax = plt.subplots()\n",
    "forest_importances.plot.bar(ax=ax)\n",
    "ax.set_title(\"Feature importances using MDI\")\n",
    "ax.set_ylabel(\"Mean decrease in impurity\")\n",
    "fig.tight_layout()\n",
    "\n",
    "model_xgb = xgb.XGBClassifier(random_state=1,objective='binary:logistic',eval_metric='logloss',use_label_encoder=False)\n",
    "xgb_pipeline = Pipeline([\n",
    "    ('model_xgb', model_xgb)\n",
    "])\n",
    "\n",
    "xgb_param= {\n",
    "    'model_xgb__max_depth': [2, 3, 5,7,9],\n",
    "    'model_xgb__n_estimators': [10, 100, 500]}\n",
    "xgb_random_f1 = RandomizedSearchCV(xgb_pipeline, xgb_param, cv=cv_inner, scoring='f1')\n",
    "xgb_random_auc = RandomizedSearchCV(xgb_pipeline, xgb_param, cv=cv_inner, scoring='roc_auc')\n",
    "\n",
    "\n",
    "xgbModels_f1 = []\n",
    "xgbScores_f1 = []\n",
    "\n",
    "xgbModels_auc = []\n",
    "xgbScores_auc = []\n",
    "\n",
    "#For colab add this code\n",
    "for i in range(len(inBags)):\n",
    "  outBags[i][\"Age\"] = outBags[i][\"Age\"].astype(float)\n",
    "  outBags[i][\"RestingBP\"] = outBags[i][\"RestingBP\"].astype(float)\n",
    "  outBags[i][\"MaxHR\"] = outBags[i][\"MaxHR\"].astype(float)\n",
    "  outBags[i][\"Oldpeak\"] = outBags[i][\"Oldpeak\"].astype(float)\n",
    "\n",
    "for i in range(len(inBags)):\n",
    "    print(i)\n",
    "    model_f1 = xgb_random_f1.fit(inBags[i][xFeatures], np.asarray(inBags[i][yFeatures].squeeze().tolist()))\n",
    "    xgbModels_f1.append(model_f1)\n",
    "    print(\"Model 1\")\n",
    "    model_auc = xgb_random_auc.fit(inBags[i][xFeatures], np.asarray(inBags[i][yFeatures].squeeze().tolist()))\n",
    "    xgbModels_auc.append(model_auc)\n",
    "    print(\"Model 2\")\n",
    "    curScore_f1 = f1_score(outBags[i][yFeatures].squeeze().tolist(), model_f1.predict(outBags[i][xFeatures]))\n",
    "    xgbScores_f1.append(curScore_f1)\n",
    "    print(\"Score 1\")\n",
    "    curScore_auc = roc_auc_score(outBags[i][yFeatures].squeeze().tolist(), model_auc.predict(outBags[i][xFeatures]))\n",
    "    xgbScores_auc.append(curScore_auc)\n",
    "    print(\"Score 2\")\n",
    "\n",
    "print(xgbScores_f1)\n",
    "print(xgbScores_auc)\n",
    "\n",
    "from xgboost import plot_importance \n",
    "\n",
    "topScore = max(xgbScores_auc)\n",
    "topModel = xgbModels_auc[0]\n",
    "for i in range(len(xgbModels_auc)):\n",
    "    if xgbScores_auc[i] == topScore:\n",
    "        topModel = xgbModels_auc[i]\n",
    "\n",
    "bestModel_XGB = topModel.best_estimator_.named_steps[\"model_xgb\"]\n",
    "\n",
    "plot_importance(bestModel_XGB)\n",
    "\n",
    "from sklearn import svm\n",
    "\n",
    "\n",
    "model_svm=svm.SVC()\n",
    "svm_pipeline = Pipeline([ \n",
    "    ('model_svm',model_svm)\n",
    "])\n",
    "svm_param = {\n",
    "               'model_svm__kernel': ['linear'],\n",
    "               'model_svm__gamma': ['scale', 'auto'],\n",
    "               'model_svm__C': [.1, .5, 1, 1.5, 2]}\n",
    "\n",
    "svm_random_f1 = RandomizedSearchCV(svm_pipeline, svm_param, cv=cv_inner, scoring='f1', random_state=42)\n",
    "svm_random_auc = RandomizedSearchCV(svm_pipeline, svm_param, cv=cv_inner, scoring='roc_auc', random_state=42)\n",
    "\n",
    "svmModels_f1 = []\n",
    "svmScores_f1 = []\n",
    "\n",
    "svmModels_auc = []\n",
    "svmScores_auc = []\n",
    "\n",
    "for i in range(len(inBags)):\n",
    "    print(i)\n",
    "    model_f1 = svm_random_f1.fit(inBags[i][xFeatures], np.asarray(inBags[i][yFeatures].squeeze().tolist()))\n",
    "    svmModels_f1.append(model_f1)\n",
    "\n",
    "    model_auc = svm_random_auc.fit(inBags[i][xFeatures], np.asarray(inBags[i][yFeatures].squeeze().tolist()))\n",
    "    svmModels_auc.append(model_auc)\n",
    "\n",
    "    curScore_f1 = f1_score(outBags[i][yFeatures].squeeze().tolist(), model.predict(outBags[i][xFeatures]))\n",
    "    svmScores_f1.append(curScore_f1)\n",
    "\n",
    "    curScore_auc = roc_auc_score(outBags[i][yFeatures].squeeze().tolist(), model.predict(outBags[i][xFeatures]))\n",
    "    svmScores_auc.append(curScore_auc)\n",
    "\n",
    "topScore = max(svmScores_auc)\n",
    "topModel = svmModels_auc[0]\n",
    "for i in range(len(svmScores_auc)):\n",
    "    if svmScores_auc[i] == topScore:\n",
    "        topModel = svmModels_auc[i]\n",
    "        \n",
    "bestModel_SVM = topModel.best_estimator_.named_steps[\"model_svm\"]\n",
    "\n",
    "importances = bestModel_SVM.coef_\n",
    "#permutation importance\n",
    "\n",
    "forest_importances = pd.Series(importances[0], index=xFeatures)\n",
    "fig, ax = plt.subplots()\n",
    "forest_importances.plot.bar(ax=ax)\n",
    "fig.tight_layout()\n",
    "\n",
    "#Friedman\n",
    "stats.friedmanchisquare(svmScores_auc,xgbScores_auc,rfScores_auc) #Gets the Friedman statistic\n",
    "\n",
    "#Drop index for test dfs\n",
    "X_test = X_test.reset_index(drop=True)\n",
    "y_test=y_test.reset_index(drop=True)\n",
    "\n",
    "scaler = StandardScaler() #Creates a SKlearn standard Scaler object\n",
    "scaler.fit(X_test[numFeatures])\n",
    "X_test[numFeatures]=scaler.transform(X_test[numFeatures])\n",
    "X_test = pd.get_dummies(X_test, columns=catFeatures)  \n",
    "\n",
    "yhat=bestModel_RF.predict(X_test)\n",
    "aucscore=roc_auc_score(yhat,y_test)\n",
    "print(aucscore)\n",
    "\n",
    "!pip install shap\n",
    "import shap\n",
    "\n",
    "shap.initjs()\n",
    "explainer = shap.KernelExplainer(bestModel_RF.predict_proba,inBags[0][xFeatures])\n",
    "shap_values = explainer.shap_values(X_test.iloc[10,:])\n",
    "#SHAP values for class 0 outcomes\n",
    "shap.force_plot(explainer.expected_value[0], shap_values[0], X_test.iloc[10,:], feature_names = X_test.columns)\n",
    "\n",
    "#SHAP values for class 1 outcomes\n",
    "shap.force_plot(explainer.expected_value[1], shap_values[1], X_test.iloc[10,:], feature_names = X_test.columns)"
   ]
  },
  {
   "cell_type": "markdown",
   "id": "8c155f0d",
   "metadata": {},
   "source": [
    "### Discussion"
   ]
  },
  {
   "cell_type": "code",
   "execution_count": null,
   "id": "ee6be651",
   "metadata": {},
   "outputs": [],
   "source": []
  },
  {
   "cell_type": "markdown",
   "id": "593eb25f",
   "metadata": {},
   "source": [
    "### Limitations\n",
    "The limitations of this project are that we had a small dataset, abnormal cholesterol data, and data from 5 different sources. The variety in sources adds difficulty to the project because it is likely that various hospitals have different conventions and produce slightly different test results. The combination of data sources may have resulted in abnormal cholesterol data. This limitation could be addressed by communicating with the institutions that have provided the data. Other future work involves experimentation with different approaches such as neural networks."
   ]
  },
  {
   "cell_type": "code",
   "execution_count": null,
   "id": "a17f5dae",
   "metadata": {},
   "outputs": [],
   "source": []
  }
 ],
 "metadata": {
  "colab": {
   "name": "models-SamMod3.ipynb",
   "provenance": []
  },
  "kernelspec": {
   "display_name": "Python 3",
   "language": "python",
   "name": "python3"
  },
  "language_info": {
   "codemirror_mode": {
    "name": "ipython",
    "version": 3
   },
   "file_extension": ".py",
   "mimetype": "text/x-python",
   "name": "python",
   "nbconvert_exporter": "python",
   "pygments_lexer": "ipython3",
   "version": "3.8.8"
  },
  "latex_envs": {
   "LaTeX_envs_menu_present": true,
   "autoclose": false,
   "autocomplete": true,
   "bibliofile": "biblio.bib",
   "cite_by": "apalike",
   "current_citInitial": 1,
   "eqLabelWithNumbers": true,
   "eqNumInitial": 1,
   "hotkeys": {
    "equation": "Ctrl-E",
    "itemize": "Ctrl-I"
   },
   "labels_anchors": false,
   "latex_user_defs": false,
   "report_style_numbering": false,
   "user_envs_cfg": false
  },
  "toc": {
   "base_numbering": 1,
   "nav_menu": {},
   "number_sections": true,
   "sideBar": true,
   "skip_h1_title": false,
   "title_cell": "Table of Contents",
   "title_sidebar": "Contents",
   "toc_cell": false,
   "toc_position": {},
   "toc_section_display": true,
   "toc_window_display": false
  }
 },
 "nbformat": 4,
 "nbformat_minor": 5
}
